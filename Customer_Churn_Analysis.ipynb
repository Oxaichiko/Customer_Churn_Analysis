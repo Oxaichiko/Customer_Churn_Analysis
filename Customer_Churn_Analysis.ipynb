{
  "nbformat": 4,
  "nbformat_minor": 0,
  "metadata": {
    "colab": {
      "provenance": []
    },
    "kernelspec": {
      "name": "python3",
      "display_name": "Python 3"
    },
    "language_info": {
      "name": "python"
    }
  },
  "cells": [
    {
      "cell_type": "markdown",
      "source": [
        "##**Import Library**"
      ],
      "metadata": {
        "id": "Yze4Yy31zG59"
      }
    },
    {
      "cell_type": "code",
      "source": [
        "import pandas as pd\n",
        "import numpy as np\n",
        "import matplotlib.pyplot as plt\n",
        "import seaborn as sns"
      ],
      "metadata": {
        "id": "QxDzQC1Zyzf8"
      },
      "execution_count": null,
      "outputs": []
    },
    {
      "cell_type": "markdown",
      "source": [
        "##**Import Train and Test Dataset**"
      ],
      "metadata": {
        "id": "y-xg40-LxoTl"
      }
    },
    {
      "cell_type": "markdown",
      "source": [
        "##**Exploratory Data Analysis (EDA)**"
      ],
      "metadata": {
        "id": "1MNIY_V_yTcK"
      }
    },
    {
      "cell_type": "code",
      "source": [
        "df = pd.read_csv('/content/train.csv')"
      ],
      "metadata": {
        "id": "vOnXVzvkxnP2"
      },
      "execution_count": null,
      "outputs": []
    },
    {
      "cell_type": "code",
      "source": [
        "df.info()"
      ],
      "metadata": {
        "colab": {
          "base_uri": "https://localhost:8080/"
        },
        "id": "SwxnHFhize-U",
        "outputId": "3e6f3b75-abf6-4f6f-8d4a-f64acf937e1b"
      },
      "execution_count": null,
      "outputs": [
        {
          "output_type": "stream",
          "name": "stdout",
          "text": [
            "<class 'pandas.core.frame.DataFrame'>\n",
            "RangeIndex: 4250 entries, 0 to 4249\n",
            "Data columns (total 20 columns):\n",
            " #   Column                         Non-Null Count  Dtype  \n",
            "---  ------                         --------------  -----  \n",
            " 0   state                          4250 non-null   object \n",
            " 1   account_length                 4250 non-null   int64  \n",
            " 2   area_code                      4250 non-null   object \n",
            " 3   international_plan             4250 non-null   object \n",
            " 4   voice_mail_plan                4250 non-null   object \n",
            " 5   number_vmail_messages          4250 non-null   int64  \n",
            " 6   total_day_minutes              4250 non-null   float64\n",
            " 7   total_day_calls                4250 non-null   int64  \n",
            " 8   total_day_charge               4250 non-null   float64\n",
            " 9   total_eve_minutes              4250 non-null   float64\n",
            " 10  total_eve_calls                4250 non-null   int64  \n",
            " 11  total_eve_charge               4250 non-null   float64\n",
            " 12  total_night_minutes            4250 non-null   float64\n",
            " 13  total_night_calls              4250 non-null   int64  \n",
            " 14  total_night_charge             4250 non-null   float64\n",
            " 15  total_intl_minutes             4250 non-null   float64\n",
            " 16  total_intl_calls               4250 non-null   int64  \n",
            " 17  total_intl_charge              4250 non-null   float64\n",
            " 18  number_customer_service_calls  4250 non-null   int64  \n",
            " 19  churn                          4250 non-null   object \n",
            "dtypes: float64(8), int64(7), object(5)\n",
            "memory usage: 664.2+ KB\n"
          ]
        }
      ]
    },
    {
      "cell_type": "code",
      "source": [
        "df.head()"
      ],
      "metadata": {
        "colab": {
          "base_uri": "https://localhost:8080/",
          "height": 270
        },
        "id": "qxLPbQR00G9d",
        "outputId": "d3058d00-29ae-4796-ce96-a43c82d8b165"
      },
      "execution_count": null,
      "outputs": [
        {
          "output_type": "execute_result",
          "data": {
            "text/plain": [
              "  state  account_length      area_code international_plan voice_mail_plan  \\\n",
              "0    OH             107  area_code_415                 no             yes   \n",
              "1    NJ             137  area_code_415                 no              no   \n",
              "2    OH              84  area_code_408                yes              no   \n",
              "3    OK              75  area_code_415                yes              no   \n",
              "4    MA             121  area_code_510                 no             yes   \n",
              "\n",
              "   number_vmail_messages  total_day_minutes  total_day_calls  \\\n",
              "0                     26              161.6              123   \n",
              "1                      0              243.4              114   \n",
              "2                      0              299.4               71   \n",
              "3                      0              166.7              113   \n",
              "4                     24              218.2               88   \n",
              "\n",
              "   total_day_charge  total_eve_minutes  total_eve_calls  total_eve_charge  \\\n",
              "0             27.47              195.5              103             16.62   \n",
              "1             41.38              121.2              110             10.30   \n",
              "2             50.90               61.9               88              5.26   \n",
              "3             28.34              148.3              122             12.61   \n",
              "4             37.09              348.5              108             29.62   \n",
              "\n",
              "   total_night_minutes  total_night_calls  total_night_charge  \\\n",
              "0                254.4                103               11.45   \n",
              "1                162.6                104                7.32   \n",
              "2                196.9                 89                8.86   \n",
              "3                186.9                121                8.41   \n",
              "4                212.6                118                9.57   \n",
              "\n",
              "   total_intl_minutes  total_intl_calls  total_intl_charge  \\\n",
              "0                13.7                 3               3.70   \n",
              "1                12.2                 5               3.29   \n",
              "2                 6.6                 7               1.78   \n",
              "3                10.1                 3               2.73   \n",
              "4                 7.5                 7               2.03   \n",
              "\n",
              "   number_customer_service_calls churn  \n",
              "0                              1    no  \n",
              "1                              0    no  \n",
              "2                              2    no  \n",
              "3                              3    no  \n",
              "4                              3    no  "
            ],
            "text/html": [
              "\n",
              "  <div id=\"df-25f13718-5717-43b1-8a68-92c525e12e12\">\n",
              "    <div class=\"colab-df-container\">\n",
              "      <div>\n",
              "<style scoped>\n",
              "    .dataframe tbody tr th:only-of-type {\n",
              "        vertical-align: middle;\n",
              "    }\n",
              "\n",
              "    .dataframe tbody tr th {\n",
              "        vertical-align: top;\n",
              "    }\n",
              "\n",
              "    .dataframe thead th {\n",
              "        text-align: right;\n",
              "    }\n",
              "</style>\n",
              "<table border=\"1\" class=\"dataframe\">\n",
              "  <thead>\n",
              "    <tr style=\"text-align: right;\">\n",
              "      <th></th>\n",
              "      <th>state</th>\n",
              "      <th>account_length</th>\n",
              "      <th>area_code</th>\n",
              "      <th>international_plan</th>\n",
              "      <th>voice_mail_plan</th>\n",
              "      <th>number_vmail_messages</th>\n",
              "      <th>total_day_minutes</th>\n",
              "      <th>total_day_calls</th>\n",
              "      <th>total_day_charge</th>\n",
              "      <th>total_eve_minutes</th>\n",
              "      <th>total_eve_calls</th>\n",
              "      <th>total_eve_charge</th>\n",
              "      <th>total_night_minutes</th>\n",
              "      <th>total_night_calls</th>\n",
              "      <th>total_night_charge</th>\n",
              "      <th>total_intl_minutes</th>\n",
              "      <th>total_intl_calls</th>\n",
              "      <th>total_intl_charge</th>\n",
              "      <th>number_customer_service_calls</th>\n",
              "      <th>churn</th>\n",
              "    </tr>\n",
              "  </thead>\n",
              "  <tbody>\n",
              "    <tr>\n",
              "      <th>0</th>\n",
              "      <td>OH</td>\n",
              "      <td>107</td>\n",
              "      <td>area_code_415</td>\n",
              "      <td>no</td>\n",
              "      <td>yes</td>\n",
              "      <td>26</td>\n",
              "      <td>161.6</td>\n",
              "      <td>123</td>\n",
              "      <td>27.47</td>\n",
              "      <td>195.5</td>\n",
              "      <td>103</td>\n",
              "      <td>16.62</td>\n",
              "      <td>254.4</td>\n",
              "      <td>103</td>\n",
              "      <td>11.45</td>\n",
              "      <td>13.7</td>\n",
              "      <td>3</td>\n",
              "      <td>3.70</td>\n",
              "      <td>1</td>\n",
              "      <td>no</td>\n",
              "    </tr>\n",
              "    <tr>\n",
              "      <th>1</th>\n",
              "      <td>NJ</td>\n",
              "      <td>137</td>\n",
              "      <td>area_code_415</td>\n",
              "      <td>no</td>\n",
              "      <td>no</td>\n",
              "      <td>0</td>\n",
              "      <td>243.4</td>\n",
              "      <td>114</td>\n",
              "      <td>41.38</td>\n",
              "      <td>121.2</td>\n",
              "      <td>110</td>\n",
              "      <td>10.30</td>\n",
              "      <td>162.6</td>\n",
              "      <td>104</td>\n",
              "      <td>7.32</td>\n",
              "      <td>12.2</td>\n",
              "      <td>5</td>\n",
              "      <td>3.29</td>\n",
              "      <td>0</td>\n",
              "      <td>no</td>\n",
              "    </tr>\n",
              "    <tr>\n",
              "      <th>2</th>\n",
              "      <td>OH</td>\n",
              "      <td>84</td>\n",
              "      <td>area_code_408</td>\n",
              "      <td>yes</td>\n",
              "      <td>no</td>\n",
              "      <td>0</td>\n",
              "      <td>299.4</td>\n",
              "      <td>71</td>\n",
              "      <td>50.90</td>\n",
              "      <td>61.9</td>\n",
              "      <td>88</td>\n",
              "      <td>5.26</td>\n",
              "      <td>196.9</td>\n",
              "      <td>89</td>\n",
              "      <td>8.86</td>\n",
              "      <td>6.6</td>\n",
              "      <td>7</td>\n",
              "      <td>1.78</td>\n",
              "      <td>2</td>\n",
              "      <td>no</td>\n",
              "    </tr>\n",
              "    <tr>\n",
              "      <th>3</th>\n",
              "      <td>OK</td>\n",
              "      <td>75</td>\n",
              "      <td>area_code_415</td>\n",
              "      <td>yes</td>\n",
              "      <td>no</td>\n",
              "      <td>0</td>\n",
              "      <td>166.7</td>\n",
              "      <td>113</td>\n",
              "      <td>28.34</td>\n",
              "      <td>148.3</td>\n",
              "      <td>122</td>\n",
              "      <td>12.61</td>\n",
              "      <td>186.9</td>\n",
              "      <td>121</td>\n",
              "      <td>8.41</td>\n",
              "      <td>10.1</td>\n",
              "      <td>3</td>\n",
              "      <td>2.73</td>\n",
              "      <td>3</td>\n",
              "      <td>no</td>\n",
              "    </tr>\n",
              "    <tr>\n",
              "      <th>4</th>\n",
              "      <td>MA</td>\n",
              "      <td>121</td>\n",
              "      <td>area_code_510</td>\n",
              "      <td>no</td>\n",
              "      <td>yes</td>\n",
              "      <td>24</td>\n",
              "      <td>218.2</td>\n",
              "      <td>88</td>\n",
              "      <td>37.09</td>\n",
              "      <td>348.5</td>\n",
              "      <td>108</td>\n",
              "      <td>29.62</td>\n",
              "      <td>212.6</td>\n",
              "      <td>118</td>\n",
              "      <td>9.57</td>\n",
              "      <td>7.5</td>\n",
              "      <td>7</td>\n",
              "      <td>2.03</td>\n",
              "      <td>3</td>\n",
              "      <td>no</td>\n",
              "    </tr>\n",
              "  </tbody>\n",
              "</table>\n",
              "</div>\n",
              "      <button class=\"colab-df-convert\" onclick=\"convertToInteractive('df-25f13718-5717-43b1-8a68-92c525e12e12')\"\n",
              "              title=\"Convert this dataframe to an interactive table.\"\n",
              "              style=\"display:none;\">\n",
              "        \n",
              "  <svg xmlns=\"http://www.w3.org/2000/svg\" height=\"24px\"viewBox=\"0 0 24 24\"\n",
              "       width=\"24px\">\n",
              "    <path d=\"M0 0h24v24H0V0z\" fill=\"none\"/>\n",
              "    <path d=\"M18.56 5.44l.94 2.06.94-2.06 2.06-.94-2.06-.94-.94-2.06-.94 2.06-2.06.94zm-11 1L8.5 8.5l.94-2.06 2.06-.94-2.06-.94L8.5 2.5l-.94 2.06-2.06.94zm10 10l.94 2.06.94-2.06 2.06-.94-2.06-.94-.94-2.06-.94 2.06-2.06.94z\"/><path d=\"M17.41 7.96l-1.37-1.37c-.4-.4-.92-.59-1.43-.59-.52 0-1.04.2-1.43.59L10.3 9.45l-7.72 7.72c-.78.78-.78 2.05 0 2.83L4 21.41c.39.39.9.59 1.41.59.51 0 1.02-.2 1.41-.59l7.78-7.78 2.81-2.81c.8-.78.8-2.07 0-2.86zM5.41 20L4 18.59l7.72-7.72 1.47 1.35L5.41 20z\"/>\n",
              "  </svg>\n",
              "      </button>\n",
              "      \n",
              "  <style>\n",
              "    .colab-df-container {\n",
              "      display:flex;\n",
              "      flex-wrap:wrap;\n",
              "      gap: 12px;\n",
              "    }\n",
              "\n",
              "    .colab-df-convert {\n",
              "      background-color: #E8F0FE;\n",
              "      border: none;\n",
              "      border-radius: 50%;\n",
              "      cursor: pointer;\n",
              "      display: none;\n",
              "      fill: #1967D2;\n",
              "      height: 32px;\n",
              "      padding: 0 0 0 0;\n",
              "      width: 32px;\n",
              "    }\n",
              "\n",
              "    .colab-df-convert:hover {\n",
              "      background-color: #E2EBFA;\n",
              "      box-shadow: 0px 1px 2px rgba(60, 64, 67, 0.3), 0px 1px 3px 1px rgba(60, 64, 67, 0.15);\n",
              "      fill: #174EA6;\n",
              "    }\n",
              "\n",
              "    [theme=dark] .colab-df-convert {\n",
              "      background-color: #3B4455;\n",
              "      fill: #D2E3FC;\n",
              "    }\n",
              "\n",
              "    [theme=dark] .colab-df-convert:hover {\n",
              "      background-color: #434B5C;\n",
              "      box-shadow: 0px 1px 3px 1px rgba(0, 0, 0, 0.15);\n",
              "      filter: drop-shadow(0px 1px 2px rgba(0, 0, 0, 0.3));\n",
              "      fill: #FFFFFF;\n",
              "    }\n",
              "  </style>\n",
              "\n",
              "      <script>\n",
              "        const buttonEl =\n",
              "          document.querySelector('#df-25f13718-5717-43b1-8a68-92c525e12e12 button.colab-df-convert');\n",
              "        buttonEl.style.display =\n",
              "          google.colab.kernel.accessAllowed ? 'block' : 'none';\n",
              "\n",
              "        async function convertToInteractive(key) {\n",
              "          const element = document.querySelector('#df-25f13718-5717-43b1-8a68-92c525e12e12');\n",
              "          const dataTable =\n",
              "            await google.colab.kernel.invokeFunction('convertToInteractive',\n",
              "                                                     [key], {});\n",
              "          if (!dataTable) return;\n",
              "\n",
              "          const docLinkHtml = 'Like what you see? Visit the ' +\n",
              "            '<a target=\"_blank\" href=https://colab.research.google.com/notebooks/data_table.ipynb>data table notebook</a>'\n",
              "            + ' to learn more about interactive tables.';\n",
              "          element.innerHTML = '';\n",
              "          dataTable['output_type'] = 'display_data';\n",
              "          await google.colab.output.renderOutput(dataTable, element);\n",
              "          const docLink = document.createElement('div');\n",
              "          docLink.innerHTML = docLinkHtml;\n",
              "          element.appendChild(docLink);\n",
              "        }\n",
              "      </script>\n",
              "    </div>\n",
              "  </div>\n",
              "  "
            ]
          },
          "metadata": {},
          "execution_count": 4
        }
      ]
    },
    {
      "cell_type": "code",
      "source": [
        "df.describe()"
      ],
      "metadata": {
        "colab": {
          "base_uri": "https://localhost:8080/",
          "height": 364
        },
        "id": "9nNVdpQ65sPd",
        "outputId": "3514c170-71b7-42d1-cd23-ea51643214fe"
      },
      "execution_count": null,
      "outputs": [
        {
          "output_type": "execute_result",
          "data": {
            "text/plain": [
              "       account_length  number_vmail_messages  total_day_minutes  \\\n",
              "count     4250.000000            4250.000000        4250.000000   \n",
              "mean       100.236235               7.631765         180.259600   \n",
              "std         39.698401              13.439882          54.012373   \n",
              "min          1.000000               0.000000           0.000000   \n",
              "25%         73.000000               0.000000         143.325000   \n",
              "50%        100.000000               0.000000         180.450000   \n",
              "75%        127.000000              16.000000         216.200000   \n",
              "max        243.000000              52.000000         351.500000   \n",
              "\n",
              "       total_day_calls  total_day_charge  total_eve_minutes  total_eve_calls  \\\n",
              "count      4250.000000       4250.000000        4250.000000      4250.000000   \n",
              "mean         99.907294         30.644682         200.173906       100.176471   \n",
              "std          19.850817          9.182096          50.249518        19.908591   \n",
              "min           0.000000          0.000000           0.000000         0.000000   \n",
              "25%          87.000000         24.365000         165.925000        87.000000   \n",
              "50%         100.000000         30.680000         200.700000       100.000000   \n",
              "75%         113.000000         36.750000         233.775000       114.000000   \n",
              "max         165.000000         59.760000         359.300000       170.000000   \n",
              "\n",
              "       total_eve_charge  total_night_minutes  total_night_calls  \\\n",
              "count       4250.000000          4250.000000        4250.000000   \n",
              "mean          17.015012           200.527882          99.839529   \n",
              "std            4.271212            50.353548          20.093220   \n",
              "min            0.000000             0.000000           0.000000   \n",
              "25%           14.102500           167.225000          86.000000   \n",
              "50%           17.060000           200.450000         100.000000   \n",
              "75%           19.867500           234.700000         113.000000   \n",
              "max           30.540000           395.000000         175.000000   \n",
              "\n",
              "       total_night_charge  total_intl_minutes  total_intl_calls  \\\n",
              "count         4250.000000         4250.000000       4250.000000   \n",
              "mean             9.023892           10.256071          4.426353   \n",
              "std              2.265922            2.760102          2.463069   \n",
              "min              0.000000            0.000000          0.000000   \n",
              "25%              7.522500            8.500000          3.000000   \n",
              "50%              9.020000           10.300000          4.000000   \n",
              "75%             10.560000           12.000000          6.000000   \n",
              "max             17.770000           20.000000         20.000000   \n",
              "\n",
              "       total_intl_charge  number_customer_service_calls  \n",
              "count        4250.000000                    4250.000000  \n",
              "mean            2.769654                       1.559059  \n",
              "std             0.745204                       1.311434  \n",
              "min             0.000000                       0.000000  \n",
              "25%             2.300000                       1.000000  \n",
              "50%             2.780000                       1.000000  \n",
              "75%             3.240000                       2.000000  \n",
              "max             5.400000                       9.000000  "
            ],
            "text/html": [
              "\n",
              "  <div id=\"df-74d58e41-14fe-41dd-a47b-8c173d4dcf4d\">\n",
              "    <div class=\"colab-df-container\">\n",
              "      <div>\n",
              "<style scoped>\n",
              "    .dataframe tbody tr th:only-of-type {\n",
              "        vertical-align: middle;\n",
              "    }\n",
              "\n",
              "    .dataframe tbody tr th {\n",
              "        vertical-align: top;\n",
              "    }\n",
              "\n",
              "    .dataframe thead th {\n",
              "        text-align: right;\n",
              "    }\n",
              "</style>\n",
              "<table border=\"1\" class=\"dataframe\">\n",
              "  <thead>\n",
              "    <tr style=\"text-align: right;\">\n",
              "      <th></th>\n",
              "      <th>account_length</th>\n",
              "      <th>number_vmail_messages</th>\n",
              "      <th>total_day_minutes</th>\n",
              "      <th>total_day_calls</th>\n",
              "      <th>total_day_charge</th>\n",
              "      <th>total_eve_minutes</th>\n",
              "      <th>total_eve_calls</th>\n",
              "      <th>total_eve_charge</th>\n",
              "      <th>total_night_minutes</th>\n",
              "      <th>total_night_calls</th>\n",
              "      <th>total_night_charge</th>\n",
              "      <th>total_intl_minutes</th>\n",
              "      <th>total_intl_calls</th>\n",
              "      <th>total_intl_charge</th>\n",
              "      <th>number_customer_service_calls</th>\n",
              "    </tr>\n",
              "  </thead>\n",
              "  <tbody>\n",
              "    <tr>\n",
              "      <th>count</th>\n",
              "      <td>4250.000000</td>\n",
              "      <td>4250.000000</td>\n",
              "      <td>4250.000000</td>\n",
              "      <td>4250.000000</td>\n",
              "      <td>4250.000000</td>\n",
              "      <td>4250.000000</td>\n",
              "      <td>4250.000000</td>\n",
              "      <td>4250.000000</td>\n",
              "      <td>4250.000000</td>\n",
              "      <td>4250.000000</td>\n",
              "      <td>4250.000000</td>\n",
              "      <td>4250.000000</td>\n",
              "      <td>4250.000000</td>\n",
              "      <td>4250.000000</td>\n",
              "      <td>4250.000000</td>\n",
              "    </tr>\n",
              "    <tr>\n",
              "      <th>mean</th>\n",
              "      <td>100.236235</td>\n",
              "      <td>7.631765</td>\n",
              "      <td>180.259600</td>\n",
              "      <td>99.907294</td>\n",
              "      <td>30.644682</td>\n",
              "      <td>200.173906</td>\n",
              "      <td>100.176471</td>\n",
              "      <td>17.015012</td>\n",
              "      <td>200.527882</td>\n",
              "      <td>99.839529</td>\n",
              "      <td>9.023892</td>\n",
              "      <td>10.256071</td>\n",
              "      <td>4.426353</td>\n",
              "      <td>2.769654</td>\n",
              "      <td>1.559059</td>\n",
              "    </tr>\n",
              "    <tr>\n",
              "      <th>std</th>\n",
              "      <td>39.698401</td>\n",
              "      <td>13.439882</td>\n",
              "      <td>54.012373</td>\n",
              "      <td>19.850817</td>\n",
              "      <td>9.182096</td>\n",
              "      <td>50.249518</td>\n",
              "      <td>19.908591</td>\n",
              "      <td>4.271212</td>\n",
              "      <td>50.353548</td>\n",
              "      <td>20.093220</td>\n",
              "      <td>2.265922</td>\n",
              "      <td>2.760102</td>\n",
              "      <td>2.463069</td>\n",
              "      <td>0.745204</td>\n",
              "      <td>1.311434</td>\n",
              "    </tr>\n",
              "    <tr>\n",
              "      <th>min</th>\n",
              "      <td>1.000000</td>\n",
              "      <td>0.000000</td>\n",
              "      <td>0.000000</td>\n",
              "      <td>0.000000</td>\n",
              "      <td>0.000000</td>\n",
              "      <td>0.000000</td>\n",
              "      <td>0.000000</td>\n",
              "      <td>0.000000</td>\n",
              "      <td>0.000000</td>\n",
              "      <td>0.000000</td>\n",
              "      <td>0.000000</td>\n",
              "      <td>0.000000</td>\n",
              "      <td>0.000000</td>\n",
              "      <td>0.000000</td>\n",
              "      <td>0.000000</td>\n",
              "    </tr>\n",
              "    <tr>\n",
              "      <th>25%</th>\n",
              "      <td>73.000000</td>\n",
              "      <td>0.000000</td>\n",
              "      <td>143.325000</td>\n",
              "      <td>87.000000</td>\n",
              "      <td>24.365000</td>\n",
              "      <td>165.925000</td>\n",
              "      <td>87.000000</td>\n",
              "      <td>14.102500</td>\n",
              "      <td>167.225000</td>\n",
              "      <td>86.000000</td>\n",
              "      <td>7.522500</td>\n",
              "      <td>8.500000</td>\n",
              "      <td>3.000000</td>\n",
              "      <td>2.300000</td>\n",
              "      <td>1.000000</td>\n",
              "    </tr>\n",
              "    <tr>\n",
              "      <th>50%</th>\n",
              "      <td>100.000000</td>\n",
              "      <td>0.000000</td>\n",
              "      <td>180.450000</td>\n",
              "      <td>100.000000</td>\n",
              "      <td>30.680000</td>\n",
              "      <td>200.700000</td>\n",
              "      <td>100.000000</td>\n",
              "      <td>17.060000</td>\n",
              "      <td>200.450000</td>\n",
              "      <td>100.000000</td>\n",
              "      <td>9.020000</td>\n",
              "      <td>10.300000</td>\n",
              "      <td>4.000000</td>\n",
              "      <td>2.780000</td>\n",
              "      <td>1.000000</td>\n",
              "    </tr>\n",
              "    <tr>\n",
              "      <th>75%</th>\n",
              "      <td>127.000000</td>\n",
              "      <td>16.000000</td>\n",
              "      <td>216.200000</td>\n",
              "      <td>113.000000</td>\n",
              "      <td>36.750000</td>\n",
              "      <td>233.775000</td>\n",
              "      <td>114.000000</td>\n",
              "      <td>19.867500</td>\n",
              "      <td>234.700000</td>\n",
              "      <td>113.000000</td>\n",
              "      <td>10.560000</td>\n",
              "      <td>12.000000</td>\n",
              "      <td>6.000000</td>\n",
              "      <td>3.240000</td>\n",
              "      <td>2.000000</td>\n",
              "    </tr>\n",
              "    <tr>\n",
              "      <th>max</th>\n",
              "      <td>243.000000</td>\n",
              "      <td>52.000000</td>\n",
              "      <td>351.500000</td>\n",
              "      <td>165.000000</td>\n",
              "      <td>59.760000</td>\n",
              "      <td>359.300000</td>\n",
              "      <td>170.000000</td>\n",
              "      <td>30.540000</td>\n",
              "      <td>395.000000</td>\n",
              "      <td>175.000000</td>\n",
              "      <td>17.770000</td>\n",
              "      <td>20.000000</td>\n",
              "      <td>20.000000</td>\n",
              "      <td>5.400000</td>\n",
              "      <td>9.000000</td>\n",
              "    </tr>\n",
              "  </tbody>\n",
              "</table>\n",
              "</div>\n",
              "      <button class=\"colab-df-convert\" onclick=\"convertToInteractive('df-74d58e41-14fe-41dd-a47b-8c173d4dcf4d')\"\n",
              "              title=\"Convert this dataframe to an interactive table.\"\n",
              "              style=\"display:none;\">\n",
              "        \n",
              "  <svg xmlns=\"http://www.w3.org/2000/svg\" height=\"24px\"viewBox=\"0 0 24 24\"\n",
              "       width=\"24px\">\n",
              "    <path d=\"M0 0h24v24H0V0z\" fill=\"none\"/>\n",
              "    <path d=\"M18.56 5.44l.94 2.06.94-2.06 2.06-.94-2.06-.94-.94-2.06-.94 2.06-2.06.94zm-11 1L8.5 8.5l.94-2.06 2.06-.94-2.06-.94L8.5 2.5l-.94 2.06-2.06.94zm10 10l.94 2.06.94-2.06 2.06-.94-2.06-.94-.94-2.06-.94 2.06-2.06.94z\"/><path d=\"M17.41 7.96l-1.37-1.37c-.4-.4-.92-.59-1.43-.59-.52 0-1.04.2-1.43.59L10.3 9.45l-7.72 7.72c-.78.78-.78 2.05 0 2.83L4 21.41c.39.39.9.59 1.41.59.51 0 1.02-.2 1.41-.59l7.78-7.78 2.81-2.81c.8-.78.8-2.07 0-2.86zM5.41 20L4 18.59l7.72-7.72 1.47 1.35L5.41 20z\"/>\n",
              "  </svg>\n",
              "      </button>\n",
              "      \n",
              "  <style>\n",
              "    .colab-df-container {\n",
              "      display:flex;\n",
              "      flex-wrap:wrap;\n",
              "      gap: 12px;\n",
              "    }\n",
              "\n",
              "    .colab-df-convert {\n",
              "      background-color: #E8F0FE;\n",
              "      border: none;\n",
              "      border-radius: 50%;\n",
              "      cursor: pointer;\n",
              "      display: none;\n",
              "      fill: #1967D2;\n",
              "      height: 32px;\n",
              "      padding: 0 0 0 0;\n",
              "      width: 32px;\n",
              "    }\n",
              "\n",
              "    .colab-df-convert:hover {\n",
              "      background-color: #E2EBFA;\n",
              "      box-shadow: 0px 1px 2px rgba(60, 64, 67, 0.3), 0px 1px 3px 1px rgba(60, 64, 67, 0.15);\n",
              "      fill: #174EA6;\n",
              "    }\n",
              "\n",
              "    [theme=dark] .colab-df-convert {\n",
              "      background-color: #3B4455;\n",
              "      fill: #D2E3FC;\n",
              "    }\n",
              "\n",
              "    [theme=dark] .colab-df-convert:hover {\n",
              "      background-color: #434B5C;\n",
              "      box-shadow: 0px 1px 3px 1px rgba(0, 0, 0, 0.15);\n",
              "      filter: drop-shadow(0px 1px 2px rgba(0, 0, 0, 0.3));\n",
              "      fill: #FFFFFF;\n",
              "    }\n",
              "  </style>\n",
              "\n",
              "      <script>\n",
              "        const buttonEl =\n",
              "          document.querySelector('#df-74d58e41-14fe-41dd-a47b-8c173d4dcf4d button.colab-df-convert');\n",
              "        buttonEl.style.display =\n",
              "          google.colab.kernel.accessAllowed ? 'block' : 'none';\n",
              "\n",
              "        async function convertToInteractive(key) {\n",
              "          const element = document.querySelector('#df-74d58e41-14fe-41dd-a47b-8c173d4dcf4d');\n",
              "          const dataTable =\n",
              "            await google.colab.kernel.invokeFunction('convertToInteractive',\n",
              "                                                     [key], {});\n",
              "          if (!dataTable) return;\n",
              "\n",
              "          const docLinkHtml = 'Like what you see? Visit the ' +\n",
              "            '<a target=\"_blank\" href=https://colab.research.google.com/notebooks/data_table.ipynb>data table notebook</a>'\n",
              "            + ' to learn more about interactive tables.';\n",
              "          element.innerHTML = '';\n",
              "          dataTable['output_type'] = 'display_data';\n",
              "          await google.colab.output.renderOutput(dataTable, element);\n",
              "          const docLink = document.createElement('div');\n",
              "          docLink.innerHTML = docLinkHtml;\n",
              "          element.appendChild(docLink);\n",
              "        }\n",
              "      </script>\n",
              "    </div>\n",
              "  </div>\n",
              "  "
            ]
          },
          "metadata": {},
          "execution_count": 5
        }
      ]
    },
    {
      "cell_type": "markdown",
      "source": [
        "###**Memeriksa Nilai Duplikat**"
      ],
      "metadata": {
        "id": "QuYi1fvLdSwN"
      }
    },
    {
      "cell_type": "code",
      "source": [
        "df.duplicated().sum()"
      ],
      "metadata": {
        "colab": {
          "base_uri": "https://localhost:8080/"
        },
        "id": "GF_yPICkdauN",
        "outputId": "ce277985-28d3-4e37-bcf8-cecab05b5ec4"
      },
      "execution_count": null,
      "outputs": [
        {
          "output_type": "execute_result",
          "data": {
            "text/plain": [
              "0"
            ]
          },
          "metadata": {},
          "execution_count": 8
        }
      ]
    },
    {
      "cell_type": "markdown",
      "source": [
        "###**Memeriksa Jumlah Unik Value**"
      ],
      "metadata": {
        "id": "MQXcM1d4dhl0"
      }
    },
    {
      "cell_type": "code",
      "source": [
        "df.nunique()"
      ],
      "metadata": {
        "colab": {
          "base_uri": "https://localhost:8080/"
        },
        "id": "PvxCgRbldnEj",
        "outputId": "902b7392-2fb6-4bc1-ed60-dfb6289a3af7"
      },
      "execution_count": null,
      "outputs": [
        {
          "output_type": "execute_result",
          "data": {
            "text/plain": [
              "state                              51\n",
              "account_length                    215\n",
              "area_code                           3\n",
              "international_plan                  2\n",
              "voice_mail_plan                     2\n",
              "number_vmail_messages              46\n",
              "total_day_minutes                1843\n",
              "total_day_calls                   120\n",
              "total_day_charge                 1843\n",
              "total_eve_minutes                1773\n",
              "total_eve_calls                   123\n",
              "total_eve_charge                 1572\n",
              "total_night_minutes              1757\n",
              "total_night_calls                 128\n",
              "total_night_charge                992\n",
              "total_intl_minutes                168\n",
              "total_intl_calls                   21\n",
              "total_intl_charge                 168\n",
              "number_customer_service_calls      10\n",
              "churn                               2\n",
              "dtype: int64"
            ]
          },
          "metadata": {},
          "execution_count": 10
        }
      ]
    },
    {
      "cell_type": "markdown",
      "source": [
        "###**Mengidentifikasi Korelasi antar Variabel**"
      ],
      "metadata": {
        "id": "bErOfENLd5ed"
      }
    },
    {
      "cell_type": "code",
      "source": [
        "plt.figure(figsize=(14, 9))\n",
        "sns.heatmap(df.corr(), annot=True, cmap='Blues');"
      ],
      "metadata": {
        "colab": {
          "base_uri": "https://localhost:8080/",
          "height": 563
        },
        "id": "1to5d8_6d-w0",
        "outputId": "de740853-a91b-4955-9ccb-f400c44eb77b"
      },
      "execution_count": null,
      "outputs": [
        {
          "output_type": "display_data",
          "data": {
            "text/plain": [
              "<Figure size 1008x648 with 2 Axes>"
            ],
            "image/png": "[encoded data removed]"
          },
          "metadata": {
            "needs_background": "light"
          }
        }
      ]
    },
    {
      "cell_type": "markdown",
      "source": [
        "- total_%_charge dan total_%_minutes sangat berkorelasi (koefisien korelasi = 1)\n",
        "- nilai total_%_charge dapat ditentukan secara proporsional dengan total_%_minutes, maka tidak perlu melihat kedua kolom. \n"
      ],
      "metadata": {
        "id": "vxPmUIsDeR9R"
      }
    },
    {
      "cell_type": "code",
      "source": [
        "df.drop(['total_day_charge', 'total_eve_charge', 'total_night_charge', 'total_intl_charge'], axis='columns', inplace=True)\n",
        "df.head()"
      ],
      "metadata": {
        "colab": {
          "base_uri": "https://localhost:8080/",
          "height": 270
        },
        "id": "8MAJnIKSfydJ",
        "outputId": "873287d4-ac22-4210-9fea-2d4ec2688fc9"
      },
      "execution_count": null,
      "outputs": [
        {
          "output_type": "execute_result",
          "data": {
            "text/plain": [
              "  state  account_length      area_code international_plan voice_mail_plan  \\\n",
              "0    OH             107  area_code_415                 no             yes   \n",
              "1    NJ             137  area_code_415                 no              no   \n",
              "2    OH              84  area_code_408                yes              no   \n",
              "3    OK              75  area_code_415                yes              no   \n",
              "4    MA             121  area_code_510                 no             yes   \n",
              "\n",
              "   number_vmail_messages  total_day_minutes  total_day_calls  \\\n",
              "0                     26              161.6              123   \n",
              "1                      0              243.4              114   \n",
              "2                      0              299.4               71   \n",
              "3                      0              166.7              113   \n",
              "4                     24              218.2               88   \n",
              "\n",
              "   total_eve_minutes  total_eve_calls  total_night_minutes  total_night_calls  \\\n",
              "0              195.5              103                254.4                103   \n",
              "1              121.2              110                162.6                104   \n",
              "2               61.9               88                196.9                 89   \n",
              "3              148.3              122                186.9                121   \n",
              "4              348.5              108                212.6                118   \n",
              "\n",
              "   total_intl_minutes  total_intl_calls  number_customer_service_calls churn  \n",
              "0                13.7                 3                              1    no  \n",
              "1                12.2                 5                              0    no  \n",
              "2                 6.6                 7                              2    no  \n",
              "3                10.1                 3                              3    no  \n",
              "4                 7.5                 7                              3    no  "
            ],
            "text/html": [
              "\n",
              "  <div id=\"df-a7d37a3d-084a-469e-950e-4b4ed1ae5d84\">\n",
              "    <div class=\"colab-df-container\">\n",
              "      <div>\n",
              "<style scoped>\n",
              "    .dataframe tbody tr th:only-of-type {\n",
              "        vertical-align: middle;\n",
              "    }\n",
              "\n",
              "    .dataframe tbody tr th {\n",
              "        vertical-align: top;\n",
              "    }\n",
              "\n",
              "    .dataframe thead th {\n",
              "        text-align: right;\n",
              "    }\n",
              "</style>\n",
              "<table border=\"1\" class=\"dataframe\">\n",
              "  <thead>\n",
              "    <tr style=\"text-align: right;\">\n",
              "      <th></th>\n",
              "      <th>state</th>\n",
              "      <th>account_length</th>\n",
              "      <th>area_code</th>\n",
              "      <th>international_plan</th>\n",
              "      <th>voice_mail_plan</th>\n",
              "      <th>number_vmail_messages</th>\n",
              "      <th>total_day_minutes</th>\n",
              "      <th>total_day_calls</th>\n",
              "      <th>total_eve_minutes</th>\n",
              "      <th>total_eve_calls</th>\n",
              "      <th>total_night_minutes</th>\n",
              "      <th>total_night_calls</th>\n",
              "      <th>total_intl_minutes</th>\n",
              "      <th>total_intl_calls</th>\n",
              "      <th>number_customer_service_calls</th>\n",
              "      <th>churn</th>\n",
              "    </tr>\n",
              "  </thead>\n",
              "  <tbody>\n",
              "    <tr>\n",
              "      <th>0</th>\n",
              "      <td>OH</td>\n",
              "      <td>107</td>\n",
              "      <td>area_code_415</td>\n",
              "      <td>no</td>\n",
              "      <td>yes</td>\n",
              "      <td>26</td>\n",
              "      <td>161.6</td>\n",
              "      <td>123</td>\n",
              "      <td>195.5</td>\n",
              "      <td>103</td>\n",
              "      <td>254.4</td>\n",
              "      <td>103</td>\n",
              "      <td>13.7</td>\n",
              "      <td>3</td>\n",
              "      <td>1</td>\n",
              "      <td>no</td>\n",
              "    </tr>\n",
              "    <tr>\n",
              "      <th>1</th>\n",
              "      <td>NJ</td>\n",
              "      <td>137</td>\n",
              "      <td>area_code_415</td>\n",
              "      <td>no</td>\n",
              "      <td>no</td>\n",
              "      <td>0</td>\n",
              "      <td>243.4</td>\n",
              "      <td>114</td>\n",
              "      <td>121.2</td>\n",
              "      <td>110</td>\n",
              "      <td>162.6</td>\n",
              "      <td>104</td>\n",
              "      <td>12.2</td>\n",
              "      <td>5</td>\n",
              "      <td>0</td>\n",
              "      <td>no</td>\n",
              "    </tr>\n",
              "    <tr>\n",
              "      <th>2</th>\n",
              "      <td>OH</td>\n",
              "      <td>84</td>\n",
              "      <td>area_code_408</td>\n",
              "      <td>yes</td>\n",
              "      <td>no</td>\n",
              "      <td>0</td>\n",
              "      <td>299.4</td>\n",
              "      <td>71</td>\n",
              "      <td>61.9</td>\n",
              "      <td>88</td>\n",
              "      <td>196.9</td>\n",
              "      <td>89</td>\n",
              "      <td>6.6</td>\n",
              "      <td>7</td>\n",
              "      <td>2</td>\n",
              "      <td>no</td>\n",
              "    </tr>\n",
              "    <tr>\n",
              "      <th>3</th>\n",
              "      <td>OK</td>\n",
              "      <td>75</td>\n",
              "      <td>area_code_415</td>\n",
              "      <td>yes</td>\n",
              "      <td>no</td>\n",
              "      <td>0</td>\n",
              "      <td>166.7</td>\n",
              "      <td>113</td>\n",
              "      <td>148.3</td>\n",
              "      <td>122</td>\n",
              "      <td>186.9</td>\n",
              "      <td>121</td>\n",
              "      <td>10.1</td>\n",
              "      <td>3</td>\n",
              "      <td>3</td>\n",
              "      <td>no</td>\n",
              "    </tr>\n",
              "    <tr>\n",
              "      <th>4</th>\n",
              "      <td>MA</td>\n",
              "      <td>121</td>\n",
              "      <td>area_code_510</td>\n",
              "      <td>no</td>\n",
              "      <td>yes</td>\n",
              "      <td>24</td>\n",
              "      <td>218.2</td>\n",
              "      <td>88</td>\n",
              "      <td>348.5</td>\n",
              "      <td>108</td>\n",
              "      <td>212.6</td>\n",
              "      <td>118</td>\n",
              "      <td>7.5</td>\n",
              "      <td>7</td>\n",
              "      <td>3</td>\n",
              "      <td>no</td>\n",
              "    </tr>\n",
              "  </tbody>\n",
              "</table>\n",
              "</div>\n",
              "      <button class=\"colab-df-convert\" onclick=\"convertToInteractive('df-a7d37a3d-084a-469e-950e-4b4ed1ae5d84')\"\n",
              "              title=\"Convert this dataframe to an interactive table.\"\n",
              "              style=\"display:none;\">\n",
              "        \n",
              "  <svg xmlns=\"http://www.w3.org/2000/svg\" height=\"24px\"viewBox=\"0 0 24 24\"\n",
              "       width=\"24px\">\n",
              "    <path d=\"M0 0h24v24H0V0z\" fill=\"none\"/>\n",
              "    <path d=\"M18.56 5.44l.94 2.06.94-2.06 2.06-.94-2.06-.94-.94-2.06-.94 2.06-2.06.94zm-11 1L8.5 8.5l.94-2.06 2.06-.94-2.06-.94L8.5 2.5l-.94 2.06-2.06.94zm10 10l.94 2.06.94-2.06 2.06-.94-2.06-.94-.94-2.06-.94 2.06-2.06.94z\"/><path d=\"M17.41 7.96l-1.37-1.37c-.4-.4-.92-.59-1.43-.59-.52 0-1.04.2-1.43.59L10.3 9.45l-7.72 7.72c-.78.78-.78 2.05 0 2.83L4 21.41c.39.39.9.59 1.41.59.51 0 1.02-.2 1.41-.59l7.78-7.78 2.81-2.81c.8-.78.8-2.07 0-2.86zM5.41 20L4 18.59l7.72-7.72 1.47 1.35L5.41 20z\"/>\n",
              "  </svg>\n",
              "      </button>\n",
              "      \n",
              "  <style>\n",
              "    .colab-df-container {\n",
              "      display:flex;\n",
              "      flex-wrap:wrap;\n",
              "      gap: 12px;\n",
              "    }\n",
              "\n",
              "    .colab-df-convert {\n",
              "      background-color: #E8F0FE;\n",
              "      border: none;\n",
              "      border-radius: 50%;\n",
              "      cursor: pointer;\n",
              "      display: none;\n",
              "      fill: #1967D2;\n",
              "      height: 32px;\n",
              "      padding: 0 0 0 0;\n",
              "      width: 32px;\n",
              "    }\n",
              "\n",
              "    .colab-df-convert:hover {\n",
              "      background-color: #E2EBFA;\n",
              "      box-shadow: 0px 1px 2px rgba(60, 64, 67, 0.3), 0px 1px 3px 1px rgba(60, 64, 67, 0.15);\n",
              "      fill: #174EA6;\n",
              "    }\n",
              "\n",
              "    [theme=dark] .colab-df-convert {\n",
              "      background-color: #3B4455;\n",
              "      fill: #D2E3FC;\n",
              "    }\n",
              "\n",
              "    [theme=dark] .colab-df-convert:hover {\n",
              "      background-color: #434B5C;\n",
              "      box-shadow: 0px 1px 3px 1px rgba(0, 0, 0, 0.15);\n",
              "      filter: drop-shadow(0px 1px 2px rgba(0, 0, 0, 0.3));\n",
              "      fill: #FFFFFF;\n",
              "    }\n",
              "  </style>\n",
              "\n",
              "      <script>\n",
              "        const buttonEl =\n",
              "          document.querySelector('#df-a7d37a3d-084a-469e-950e-4b4ed1ae5d84 button.colab-df-convert');\n",
              "        buttonEl.style.display =\n",
              "          google.colab.kernel.accessAllowed ? 'block' : 'none';\n",
              "\n",
              "        async function convertToInteractive(key) {\n",
              "          const element = document.querySelector('#df-a7d37a3d-084a-469e-950e-4b4ed1ae5d84');\n",
              "          const dataTable =\n",
              "            await google.colab.kernel.invokeFunction('convertToInteractive',\n",
              "                                                     [key], {});\n",
              "          if (!dataTable) return;\n",
              "\n",
              "          const docLinkHtml = 'Like what you see? Visit the ' +\n",
              "            '<a target=\"_blank\" href=https://colab.research.google.com/notebooks/data_table.ipynb>data table notebook</a>'\n",
              "            + ' to learn more about interactive tables.';\n",
              "          element.innerHTML = '';\n",
              "          dataTable['output_type'] = 'display_data';\n",
              "          await google.colab.output.renderOutput(dataTable, element);\n",
              "          const docLink = document.createElement('div');\n",
              "          docLink.innerHTML = docLinkHtml;\n",
              "          element.appendChild(docLink);\n",
              "        }\n",
              "      </script>\n",
              "    </div>\n",
              "  </div>\n",
              "  "
            ]
          },
          "metadata": {},
          "execution_count": 14
        }
      ]
    },
    {
      "cell_type": "markdown",
      "source": [
        "###**Mengidentifikasi variabel Kunci untuk Memprediksi Churn**\n",
        "\n",
        "Menghitung koefisien masing-masing variabel dengan reresi logistik untuk menentukan variabel mana yang penting untuk memprediksi churn"
      ],
      "metadata": {
        "id": "tBipAzIQgatg"
      }
    },
    {
      "cell_type": "markdown",
      "source": [
        "###**Model Regresi Logistik**"
      ],
      "metadata": {
        "id": "N8obgC_4iIir"
      }
    },
    {
      "cell_type": "code",
      "source": [
        "# scikit-learn\n",
        "from sklearn.model_selection import train_test_split\n",
        "from sklearn.linear_model import LogisticRegression\n",
        "from sklearn import preprocessing"
      ],
      "metadata": {
        "id": "V7O35UAUhRQ8"
      },
      "execution_count": null,
      "outputs": []
    },
    {
      "cell_type": "markdown",
      "source": [
        "1. Kolom yang dikonversi dari churn = ya/tidak ke binary (o dan 1) disimpan secara terpisah"
      ],
      "metadata": {
        "id": "P7a4R9-ShgQ6"
      }
    },
    {
      "cell_type": "code",
      "source": [
        "df['churn_0_1'] = df['churn'].apply(lambda x: 1 if x == 'yes' else 0)\n",
        "df[['churn', 'churn_0_1']].head()"
      ],
      "metadata": {
        "colab": {
          "base_uri": "https://localhost:8080/",
          "height": 206
        },
        "id": "L__WieTzhs71",
        "outputId": "604353cb-1db2-4d63-8143-a7c5624129f9"
      },
      "execution_count": null,
      "outputs": [
        {
          "output_type": "execute_result",
          "data": {
            "text/plain": [
              "  churn  churn_0_1\n",
              "0    no          0\n",
              "1    no          0\n",
              "2    no          0\n",
              "3    no          0\n",
              "4    no          0"
            ],
            "text/html": [
              "\n",
              "  <div id=\"df-043fe33a-8677-49d9-af63-b2758c7dcd80\">\n",
              "    <div class=\"colab-df-container\">\n",
              "      <div>\n",
              "<style scoped>\n",
              "    .dataframe tbody tr th:only-of-type {\n",
              "        vertical-align: middle;\n",
              "    }\n",
              "\n",
              "    .dataframe tbody tr th {\n",
              "        vertical-align: top;\n",
              "    }\n",
              "\n",
              "    .dataframe thead th {\n",
              "        text-align: right;\n",
              "    }\n",
              "</style>\n",
              "<table border=\"1\" class=\"dataframe\">\n",
              "  <thead>\n",
              "    <tr style=\"text-align: right;\">\n",
              "      <th></th>\n",
              "      <th>churn</th>\n",
              "      <th>churn_0_1</th>\n",
              "    </tr>\n",
              "  </thead>\n",
              "  <tbody>\n",
              "    <tr>\n",
              "      <th>0</th>\n",
              "      <td>no</td>\n",
              "      <td>0</td>\n",
              "    </tr>\n",
              "    <tr>\n",
              "      <th>1</th>\n",
              "      <td>no</td>\n",
              "      <td>0</td>\n",
              "    </tr>\n",
              "    <tr>\n",
              "      <th>2</th>\n",
              "      <td>no</td>\n",
              "      <td>0</td>\n",
              "    </tr>\n",
              "    <tr>\n",
              "      <th>3</th>\n",
              "      <td>no</td>\n",
              "      <td>0</td>\n",
              "    </tr>\n",
              "    <tr>\n",
              "      <th>4</th>\n",
              "      <td>no</td>\n",
              "      <td>0</td>\n",
              "    </tr>\n",
              "  </tbody>\n",
              "</table>\n",
              "</div>\n",
              "      <button class=\"colab-df-convert\" onclick=\"convertToInteractive('df-043fe33a-8677-49d9-af63-b2758c7dcd80')\"\n",
              "              title=\"Convert this dataframe to an interactive table.\"\n",
              "              style=\"display:none;\">\n",
              "        \n",
              "  <svg xmlns=\"http://www.w3.org/2000/svg\" height=\"24px\"viewBox=\"0 0 24 24\"\n",
              "       width=\"24px\">\n",
              "    <path d=\"M0 0h24v24H0V0z\" fill=\"none\"/>\n",
              "    <path d=\"M18.56 5.44l.94 2.06.94-2.06 2.06-.94-2.06-.94-.94-2.06-.94 2.06-2.06.94zm-11 1L8.5 8.5l.94-2.06 2.06-.94-2.06-.94L8.5 2.5l-.94 2.06-2.06.94zm10 10l.94 2.06.94-2.06 2.06-.94-2.06-.94-.94-2.06-.94 2.06-2.06.94z\"/><path d=\"M17.41 7.96l-1.37-1.37c-.4-.4-.92-.59-1.43-.59-.52 0-1.04.2-1.43.59L10.3 9.45l-7.72 7.72c-.78.78-.78 2.05 0 2.83L4 21.41c.39.39.9.59 1.41.59.51 0 1.02-.2 1.41-.59l7.78-7.78 2.81-2.81c.8-.78.8-2.07 0-2.86zM5.41 20L4 18.59l7.72-7.72 1.47 1.35L5.41 20z\"/>\n",
              "  </svg>\n",
              "      </button>\n",
              "      \n",
              "  <style>\n",
              "    .colab-df-container {\n",
              "      display:flex;\n",
              "      flex-wrap:wrap;\n",
              "      gap: 12px;\n",
              "    }\n",
              "\n",
              "    .colab-df-convert {\n",
              "      background-color: #E8F0FE;\n",
              "      border: none;\n",
              "      border-radius: 50%;\n",
              "      cursor: pointer;\n",
              "      display: none;\n",
              "      fill: #1967D2;\n",
              "      height: 32px;\n",
              "      padding: 0 0 0 0;\n",
              "      width: 32px;\n",
              "    }\n",
              "\n",
              "    .colab-df-convert:hover {\n",
              "      background-color: #E2EBFA;\n",
              "      box-shadow: 0px 1px 2px rgba(60, 64, 67, 0.3), 0px 1px 3px 1px rgba(60, 64, 67, 0.15);\n",
              "      fill: #174EA6;\n",
              "    }\n",
              "\n",
              "    [theme=dark] .colab-df-convert {\n",
              "      background-color: #3B4455;\n",
              "      fill: #D2E3FC;\n",
              "    }\n",
              "\n",
              "    [theme=dark] .colab-df-convert:hover {\n",
              "      background-color: #434B5C;\n",
              "      box-shadow: 0px 1px 3px 1px rgba(0, 0, 0, 0.15);\n",
              "      filter: drop-shadow(0px 1px 2px rgba(0, 0, 0, 0.3));\n",
              "      fill: #FFFFFF;\n",
              "    }\n",
              "  </style>\n",
              "\n",
              "      <script>\n",
              "        const buttonEl =\n",
              "          document.querySelector('#df-043fe33a-8677-49d9-af63-b2758c7dcd80 button.colab-df-convert');\n",
              "        buttonEl.style.display =\n",
              "          google.colab.kernel.accessAllowed ? 'block' : 'none';\n",
              "\n",
              "        async function convertToInteractive(key) {\n",
              "          const element = document.querySelector('#df-043fe33a-8677-49d9-af63-b2758c7dcd80');\n",
              "          const dataTable =\n",
              "            await google.colab.kernel.invokeFunction('convertToInteractive',\n",
              "                                                     [key], {});\n",
              "          if (!dataTable) return;\n",
              "\n",
              "          const docLinkHtml = 'Like what you see? Visit the ' +\n",
              "            '<a target=\"_blank\" href=https://colab.research.google.com/notebooks/data_table.ipynb>data table notebook</a>'\n",
              "            + ' to learn more about interactive tables.';\n",
              "          element.innerHTML = '';\n",
              "          dataTable['output_type'] = 'display_data';\n",
              "          await google.colab.output.renderOutput(dataTable, element);\n",
              "          const docLink = document.createElement('div');\n",
              "          docLink.innerHTML = docLinkHtml;\n",
              "          element.appendChild(docLink);\n",
              "        }\n",
              "      </script>\n",
              "    </div>\n",
              "  </div>\n",
              "  "
            ]
          },
          "metadata": {},
          "execution_count": 16
        }
      ]
    },
    {
      "cell_type": "markdown",
      "source": [
        "2. Menyimpan variabel input (x) dan variabel (y) secara terpisah"
      ],
      "metadata": {
        "id": "l_UfBR-Eh4tz"
      }
    },
    {
      "cell_type": "code",
      "source": [
        "X = df.iloc[:, :-2]  # ~ 'number_customer_service_calls' simpan ke kolom\n",
        "y = df.iloc[:, -1]  # 'churn_0_1' simpan kolom saja"
      ],
      "metadata": {
        "id": "m24UWaEwiV4c"
      },
      "execution_count": null,
      "outputs": []
    },
    {
      "cell_type": "markdown",
      "source": [
        "3. Mengubah variabel kategori menjadi variabel dummy"
      ],
      "metadata": {
        "id": "C5l1r9KliyFK"
      }
    },
    {
      "cell_type": "code",
      "source": [
        "# Kolom dengan 3 nilai atau lebih dikonversi ke variabel dummy dengan pd.get_dummies()\n",
        "X = pd.get_dummies(data=X, columns=['state', 'area_code'])\n",
        "\n",
        " # Kolom dengan dua nilai ya dan tidak: ubah ya menjadi 1 dan tidak menjadi 0\n",
        "X['international_plan'] = X['international_plan'].apply(lambda x: 1 if x == 'yes' else 0)\n",
        "X['voice_mail_plan'] = X['voice_mail_plan'].apply(lambda x: 1 if x == 'yes' else 0)\n",
        "X.head()"
      ],
      "metadata": {
        "colab": {
          "base_uri": "https://localhost:8080/",
          "height": 300
        },
        "id": "26YVvvCZi2nw",
        "outputId": "9e388cae-ff1a-4eea-b9ed-2403a9be23da"
      },
      "execution_count": null,
      "outputs": [
        {
          "output_type": "execute_result",
          "data": {
            "text/plain": [
              "   account_length  international_plan  voice_mail_plan  number_vmail_messages  \\\n",
              "0             107                   0                1                     26   \n",
              "1             137                   0                0                      0   \n",
              "2              84                   1                0                      0   \n",
              "3              75                   1                0                      0   \n",
              "4             121                   0                1                     24   \n",
              "\n",
              "   total_day_minutes  total_day_calls  total_eve_minutes  total_eve_calls  \\\n",
              "0              161.6              123              195.5              103   \n",
              "1              243.4              114              121.2              110   \n",
              "2              299.4               71               61.9               88   \n",
              "3              166.7              113              148.3              122   \n",
              "4              218.2               88              348.5              108   \n",
              "\n",
              "   total_night_minutes  total_night_calls  ...  state_UT  state_VA  state_VT  \\\n",
              "0                254.4                103  ...         0         0         0   \n",
              "1                162.6                104  ...         0         0         0   \n",
              "2                196.9                 89  ...         0         0         0   \n",
              "3                186.9                121  ...         0         0         0   \n",
              "4                212.6                118  ...         0         0         0   \n",
              "\n",
              "   state_WA  state_WI  state_WV  state_WY  area_code_area_code_408  \\\n",
              "0         0         0         0         0                        0   \n",
              "1         0         0         0         0                        0   \n",
              "2         0         0         0         0                        1   \n",
              "3         0         0         0         0                        0   \n",
              "4         0         0         0         0                        0   \n",
              "\n",
              "   area_code_area_code_415  area_code_area_code_510  \n",
              "0                        1                        0  \n",
              "1                        1                        0  \n",
              "2                        0                        0  \n",
              "3                        1                        0  \n",
              "4                        0                        1  \n",
              "\n",
              "[5 rows x 67 columns]"
            ],
            "text/html": [
              "\n",
              "  <div id=\"df-0f9dfd61-6856-4b9b-8497-53c214b95067\">\n",
              "    <div class=\"colab-df-container\">\n",
              "      <div>\n",
              "<style scoped>\n",
              "    .dataframe tbody tr th:only-of-type {\n",
              "        vertical-align: middle;\n",
              "    }\n",
              "\n",
              "    .dataframe tbody tr th {\n",
              "        vertical-align: top;\n",
              "    }\n",
              "\n",
              "    .dataframe thead th {\n",
              "        text-align: right;\n",
              "    }\n",
              "</style>\n",
              "<table border=\"1\" class=\"dataframe\">\n",
              "  <thead>\n",
              "    <tr style=\"text-align: right;\">\n",
              "      <th></th>\n",
              "      <th>account_length</th>\n",
              "      <th>international_plan</th>\n",
              "      <th>voice_mail_plan</th>\n",
              "      <th>number_vmail_messages</th>\n",
              "      <th>total_day_minutes</th>\n",
              "      <th>total_day_calls</th>\n",
              "      <th>total_eve_minutes</th>\n",
              "      <th>total_eve_calls</th>\n",
              "      <th>total_night_minutes</th>\n",
              "      <th>total_night_calls</th>\n",
              "      <th>...</th>\n",
              "      <th>state_UT</th>\n",
              "      <th>state_VA</th>\n",
              "      <th>state_VT</th>\n",
              "      <th>state_WA</th>\n",
              "      <th>state_WI</th>\n",
              "      <th>state_WV</th>\n",
              "      <th>state_WY</th>\n",
              "      <th>area_code_area_code_408</th>\n",
              "      <th>area_code_area_code_415</th>\n",
              "      <th>area_code_area_code_510</th>\n",
              "    </tr>\n",
              "  </thead>\n",
              "  <tbody>\n",
              "    <tr>\n",
              "      <th>0</th>\n",
              "      <td>107</td>\n",
              "      <td>0</td>\n",
              "      <td>1</td>\n",
              "      <td>26</td>\n",
              "      <td>161.6</td>\n",
              "      <td>123</td>\n",
              "      <td>195.5</td>\n",
              "      <td>103</td>\n",
              "      <td>254.4</td>\n",
              "      <td>103</td>\n",
              "      <td>...</td>\n",
              "      <td>0</td>\n",
              "      <td>0</td>\n",
              "      <td>0</td>\n",
              "      <td>0</td>\n",
              "      <td>0</td>\n",
              "      <td>0</td>\n",
              "      <td>0</td>\n",
              "      <td>0</td>\n",
              "      <td>1</td>\n",
              "      <td>0</td>\n",
              "    </tr>\n",
              "    <tr>\n",
              "      <th>1</th>\n",
              "      <td>137</td>\n",
              "      <td>0</td>\n",
              "      <td>0</td>\n",
              "      <td>0</td>\n",
              "      <td>243.4</td>\n",
              "      <td>114</td>\n",
              "      <td>121.2</td>\n",
              "      <td>110</td>\n",
              "      <td>162.6</td>\n",
              "      <td>104</td>\n",
              "      <td>...</td>\n",
              "      <td>0</td>\n",
              "      <td>0</td>\n",
              "      <td>0</td>\n",
              "      <td>0</td>\n",
              "      <td>0</td>\n",
              "      <td>0</td>\n",
              "      <td>0</td>\n",
              "      <td>0</td>\n",
              "      <td>1</td>\n",
              "      <td>0</td>\n",
              "    </tr>\n",
              "    <tr>\n",
              "      <th>2</th>\n",
              "      <td>84</td>\n",
              "      <td>1</td>\n",
              "      <td>0</td>\n",
              "      <td>0</td>\n",
              "      <td>299.4</td>\n",
              "      <td>71</td>\n",
              "      <td>61.9</td>\n",
              "      <td>88</td>\n",
              "      <td>196.9</td>\n",
              "      <td>89</td>\n",
              "      <td>...</td>\n",
              "      <td>0</td>\n",
              "      <td>0</td>\n",
              "      <td>0</td>\n",
              "      <td>0</td>\n",
              "      <td>0</td>\n",
              "      <td>0</td>\n",
              "      <td>0</td>\n",
              "      <td>1</td>\n",
              "      <td>0</td>\n",
              "      <td>0</td>\n",
              "    </tr>\n",
              "    <tr>\n",
              "      <th>3</th>\n",
              "      <td>75</td>\n",
              "      <td>1</td>\n",
              "      <td>0</td>\n",
              "      <td>0</td>\n",
              "      <td>166.7</td>\n",
              "      <td>113</td>\n",
              "      <td>148.3</td>\n",
              "      <td>122</td>\n",
              "      <td>186.9</td>\n",
              "      <td>121</td>\n",
              "      <td>...</td>\n",
              "      <td>0</td>\n",
              "      <td>0</td>\n",
              "      <td>0</td>\n",
              "      <td>0</td>\n",
              "      <td>0</td>\n",
              "      <td>0</td>\n",
              "      <td>0</td>\n",
              "      <td>0</td>\n",
              "      <td>1</td>\n",
              "      <td>0</td>\n",
              "    </tr>\n",
              "    <tr>\n",
              "      <th>4</th>\n",
              "      <td>121</td>\n",
              "      <td>0</td>\n",
              "      <td>1</td>\n",
              "      <td>24</td>\n",
              "      <td>218.2</td>\n",
              "      <td>88</td>\n",
              "      <td>348.5</td>\n",
              "      <td>108</td>\n",
              "      <td>212.6</td>\n",
              "      <td>118</td>\n",
              "      <td>...</td>\n",
              "      <td>0</td>\n",
              "      <td>0</td>\n",
              "      <td>0</td>\n",
              "      <td>0</td>\n",
              "      <td>0</td>\n",
              "      <td>0</td>\n",
              "      <td>0</td>\n",
              "      <td>0</td>\n",
              "      <td>0</td>\n",
              "      <td>1</td>\n",
              "    </tr>\n",
              "  </tbody>\n",
              "</table>\n",
              "<p>5 rows × 67 columns</p>\n",
              "</div>\n",
              "      <button class=\"colab-df-convert\" onclick=\"convertToInteractive('df-0f9dfd61-6856-4b9b-8497-53c214b95067')\"\n",
              "              title=\"Convert this dataframe to an interactive table.\"\n",
              "              style=\"display:none;\">\n",
              "        \n",
              "  <svg xmlns=\"http://www.w3.org/2000/svg\" height=\"24px\"viewBox=\"0 0 24 24\"\n",
              "       width=\"24px\">\n",
              "    <path d=\"M0 0h24v24H0V0z\" fill=\"none\"/>\n",
              "    <path d=\"M18.56 5.44l.94 2.06.94-2.06 2.06-.94-2.06-.94-.94-2.06-.94 2.06-2.06.94zm-11 1L8.5 8.5l.94-2.06 2.06-.94-2.06-.94L8.5 2.5l-.94 2.06-2.06.94zm10 10l.94 2.06.94-2.06 2.06-.94-2.06-.94-.94-2.06-.94 2.06-2.06.94z\"/><path d=\"M17.41 7.96l-1.37-1.37c-.4-.4-.92-.59-1.43-.59-.52 0-1.04.2-1.43.59L10.3 9.45l-7.72 7.72c-.78.78-.78 2.05 0 2.83L4 21.41c.39.39.9.59 1.41.59.51 0 1.02-.2 1.41-.59l7.78-7.78 2.81-2.81c.8-.78.8-2.07 0-2.86zM5.41 20L4 18.59l7.72-7.72 1.47 1.35L5.41 20z\"/>\n",
              "  </svg>\n",
              "      </button>\n",
              "      \n",
              "  <style>\n",
              "    .colab-df-container {\n",
              "      display:flex;\n",
              "      flex-wrap:wrap;\n",
              "      gap: 12px;\n",
              "    }\n",
              "\n",
              "    .colab-df-convert {\n",
              "      background-color: #E8F0FE;\n",
              "      border: none;\n",
              "      border-radius: 50%;\n",
              "      cursor: pointer;\n",
              "      display: none;\n",
              "      fill: #1967D2;\n",
              "      height: 32px;\n",
              "      padding: 0 0 0 0;\n",
              "      width: 32px;\n",
              "    }\n",
              "\n",
              "    .colab-df-convert:hover {\n",
              "      background-color: #E2EBFA;\n",
              "      box-shadow: 0px 1px 2px rgba(60, 64, 67, 0.3), 0px 1px 3px 1px rgba(60, 64, 67, 0.15);\n",
              "      fill: #174EA6;\n",
              "    }\n",
              "\n",
              "    [theme=dark] .colab-df-convert {\n",
              "      background-color: #3B4455;\n",
              "      fill: #D2E3FC;\n",
              "    }\n",
              "\n",
              "    [theme=dark] .colab-df-convert:hover {\n",
              "      background-color: #434B5C;\n",
              "      box-shadow: 0px 1px 3px 1px rgba(0, 0, 0, 0.15);\n",
              "      filter: drop-shadow(0px 1px 2px rgba(0, 0, 0, 0.3));\n",
              "      fill: #FFFFFF;\n",
              "    }\n",
              "  </style>\n",
              "\n",
              "      <script>\n",
              "        const buttonEl =\n",
              "          document.querySelector('#df-0f9dfd61-6856-4b9b-8497-53c214b95067 button.colab-df-convert');\n",
              "        buttonEl.style.display =\n",
              "          google.colab.kernel.accessAllowed ? 'block' : 'none';\n",
              "\n",
              "        async function convertToInteractive(key) {\n",
              "          const element = document.querySelector('#df-0f9dfd61-6856-4b9b-8497-53c214b95067');\n",
              "          const dataTable =\n",
              "            await google.colab.kernel.invokeFunction('convertToInteractive',\n",
              "                                                     [key], {});\n",
              "          if (!dataTable) return;\n",
              "\n",
              "          const docLinkHtml = 'Like what you see? Visit the ' +\n",
              "            '<a target=\"_blank\" href=https://colab.research.google.com/notebooks/data_table.ipynb>data table notebook</a>'\n",
              "            + ' to learn more about interactive tables.';\n",
              "          element.innerHTML = '';\n",
              "          dataTable['output_type'] = 'display_data';\n",
              "          await google.colab.output.renderOutput(dataTable, element);\n",
              "          const docLink = document.createElement('div');\n",
              "          docLink.innerHTML = docLinkHtml;\n",
              "          element.appendChild(docLink);\n",
              "        }\n",
              "      </script>\n",
              "    </div>\n",
              "  </div>\n",
              "  "
            ]
          },
          "metadata": {},
          "execution_count": 20
        }
      ]
    },
    {
      "cell_type": "markdown",
      "source": [
        "4. Standarisasi input variable\n",
        "\n",
        "Jika nilai x tidak standar, maka koefisien yang dihitung tidak dapat dibandingkan pada baris yang sama"
      ],
      "metadata": {
        "id": "lv4Jehwhjhqr"
      }
    },
    {
      "cell_type": "code",
      "source": [
        " scaler = preprocessing.StandardScaler() \n",
        " X_scaled = scaler.fit_transform(X)"
      ],
      "metadata": {
        "id": "4pt1APQBjmsF"
      },
      "execution_count": null,
      "outputs": []
    },
    {
      "cell_type": "markdown",
      "source": [
        "5. train_test_split dan running"
      ],
      "metadata": {
        "id": "nV8fSOxDj6o5"
      }
    },
    {
      "cell_type": "code",
      "source": [
        "X_train, X_test, y_train, y_test = train_test_split(X_scaled, y, test_size=0.2)\n",
        "y_train = y_train.values.ravel()  #ravel(): Fungsi yang meratakan array multidimensi menjadi array satu dimensi."
      ],
      "metadata": {
        "id": "Tjz67zoVkBmB"
      },
      "execution_count": null,
      "outputs": []
    },
    {
      "cell_type": "code",
      "source": [
        "logistic_model = LogisticRegression(solver='saga', max_iter=2000, penalty='l1')\n",
        "logistic_model.fit(X_train, y_train)\n",
        "\n",
        "logistic_model.score(X_test, y_test)  # accuracy_score"
      ],
      "metadata": {
        "colab": {
          "base_uri": "https://localhost:8080/"
        },
        "id": "UYE7s-Vaksws",
        "outputId": "e2dbed40-69e1-42cf-8f7a-04cf2041ba91"
      },
      "execution_count": null,
      "outputs": [
        {
          "output_type": "execute_result",
          "data": {
            "text/plain": [
              "0.8776470588235294"
            ]
          },
          "metadata": {},
          "execution_count": 23
        }
      ]
    },
    {
      "cell_type": "markdown",
      "source": [
        "###**Perbandingan Koefisien Menurut Variabel**"
      ],
      "metadata": {
        "id": "ZU0Sf089kyIR"
      }
    },
    {
      "cell_type": "code",
      "source": [
        "# urutkan df dalam urutan nilai koefisien absolut terbesar\n",
        "temp = pd.DataFrame(list(zip(X.columns, np.absolute(logistic_model.coef_[0]))), \n",
        "                  columns=['feature', 'coefficient']).sort_values('coefficient', ascending=False).reset_index()\n",
        "\n",
        "# Visualisasikan hanya 20 variabel teratas dengan koefisien terbesar\n",
        "plt.figure(figsize=(8, 6))\n",
        "sns.barplot(data=temp.head(20), y='feature', x='coefficient', palette='Blues_r');"
      ],
      "metadata": {
        "colab": {
          "base_uri": "https://localhost:8080/",
          "height": 388
        },
        "id": "GRzbhpRUk5lc",
        "outputId": "d1e7d392-4fdd-4c4b-982b-4160de2b3050"
      },
      "execution_count": null,
      "outputs": [
        {
          "output_type": "display_data",
          "data": {
            "text/plain": [
              "<Figure size 576x432 with 1 Axes>"
            ],
            "image/png": "[encoded data removed]"
          },
          "metadata": {
            "needs_background": "light"
          }
        }
      ]
    },
    {
      "cell_type": "markdown",
      "source": [
        "voice_mail plan, total_day_minutes, number_customer_service_calls, international_plan, dan number_vmail_messages dinilai sebagai variabel utama dalam memprediksi customer churn"
      ],
      "metadata": {
        "id": "4EeBK7lIlWrQ"
      }
    },
    {
      "cell_type": "markdown",
      "source": [
        "###**Perbandingan Berdasarkan Variabel**"
      ],
      "metadata": {
        "id": "IlFfmF9RmF5D"
      }
    },
    {
      "cell_type": "markdown",
      "source": [
        "###Rasio churn menurut state\n",
        "1. Perbandingan rasio churn mingguan"
      ],
      "metadata": {
        "id": "vYK9vxoNmPkF"
      }
    },
    {
      "cell_type": "code",
      "source": [
        "# churn: yes=1, Jika tidak = 0, rata-ratanya sama dengan churn rate.\n",
        "churn_state = df.groupby(['state'])[['churn_0_1']].mean() * 100\n",
        "churn_state.rename(columns={'churn_0_1':'churn rate (%)'}, inplace=True)\n",
        "churn_state.reset_index(inplace=True)\n",
        "\n",
        "# Urutkan dalam urutan menurun berdasarkan rasio churn\n",
        "churn_state.sort_values(by='churn rate (%)', ascending=False, inplace=True)\n",
        "churn_state.head()"
      ],
      "metadata": {
        "colab": {
          "base_uri": "https://localhost:8080/",
          "height": 206
        },
        "id": "uzfbjYnXmmxW",
        "outputId": "2b1a4e52-357e-448f-95a4-514365916e97"
      },
      "execution_count": null,
      "outputs": [
        {
          "output_type": "execute_result",
          "data": {
            "text/plain": [
              "   state  churn rate (%)\n",
              "31    NJ       27.083333\n",
              "4     CA       25.641026\n",
              "47    WA       22.500000\n",
              "20    MD       22.093023\n",
              "26    MT       21.250000"
            ],
            "text/html": [
              "\n",
              "  <div id=\"df-e0bd1fd6-cb3e-4289-b3db-d24a5f86bb50\">\n",
              "    <div class=\"colab-df-container\">\n",
              "      <div>\n",
              "<style scoped>\n",
              "    .dataframe tbody tr th:only-of-type {\n",
              "        vertical-align: middle;\n",
              "    }\n",
              "\n",
              "    .dataframe tbody tr th {\n",
              "        vertical-align: top;\n",
              "    }\n",
              "\n",
              "    .dataframe thead th {\n",
              "        text-align: right;\n",
              "    }\n",
              "</style>\n",
              "<table border=\"1\" class=\"dataframe\">\n",
              "  <thead>\n",
              "    <tr style=\"text-align: right;\">\n",
              "      <th></th>\n",
              "      <th>state</th>\n",
              "      <th>churn rate (%)</th>\n",
              "    </tr>\n",
              "  </thead>\n",
              "  <tbody>\n",
              "    <tr>\n",
              "      <th>31</th>\n",
              "      <td>NJ</td>\n",
              "      <td>27.083333</td>\n",
              "    </tr>\n",
              "    <tr>\n",
              "      <th>4</th>\n",
              "      <td>CA</td>\n",
              "      <td>25.641026</td>\n",
              "    </tr>\n",
              "    <tr>\n",
              "      <th>47</th>\n",
              "      <td>WA</td>\n",
              "      <td>22.500000</td>\n",
              "    </tr>\n",
              "    <tr>\n",
              "      <th>20</th>\n",
              "      <td>MD</td>\n",
              "      <td>22.093023</td>\n",
              "    </tr>\n",
              "    <tr>\n",
              "      <th>26</th>\n",
              "      <td>MT</td>\n",
              "      <td>21.250000</td>\n",
              "    </tr>\n",
              "  </tbody>\n",
              "</table>\n",
              "</div>\n",
              "      <button class=\"colab-df-convert\" onclick=\"convertToInteractive('df-e0bd1fd6-cb3e-4289-b3db-d24a5f86bb50')\"\n",
              "              title=\"Convert this dataframe to an interactive table.\"\n",
              "              style=\"display:none;\">\n",
              "        \n",
              "  <svg xmlns=\"http://www.w3.org/2000/svg\" height=\"24px\"viewBox=\"0 0 24 24\"\n",
              "       width=\"24px\">\n",
              "    <path d=\"M0 0h24v24H0V0z\" fill=\"none\"/>\n",
              "    <path d=\"M18.56 5.44l.94 2.06.94-2.06 2.06-.94-2.06-.94-.94-2.06-.94 2.06-2.06.94zm-11 1L8.5 8.5l.94-2.06 2.06-.94-2.06-.94L8.5 2.5l-.94 2.06-2.06.94zm10 10l.94 2.06.94-2.06 2.06-.94-2.06-.94-.94-2.06-.94 2.06-2.06.94z\"/><path d=\"M17.41 7.96l-1.37-1.37c-.4-.4-.92-.59-1.43-.59-.52 0-1.04.2-1.43.59L10.3 9.45l-7.72 7.72c-.78.78-.78 2.05 0 2.83L4 21.41c.39.39.9.59 1.41.59.51 0 1.02-.2 1.41-.59l7.78-7.78 2.81-2.81c.8-.78.8-2.07 0-2.86zM5.41 20L4 18.59l7.72-7.72 1.47 1.35L5.41 20z\"/>\n",
              "  </svg>\n",
              "      </button>\n",
              "      \n",
              "  <style>\n",
              "    .colab-df-container {\n",
              "      display:flex;\n",
              "      flex-wrap:wrap;\n",
              "      gap: 12px;\n",
              "    }\n",
              "\n",
              "    .colab-df-convert {\n",
              "      background-color: #E8F0FE;\n",
              "      border: none;\n",
              "      border-radius: 50%;\n",
              "      cursor: pointer;\n",
              "      display: none;\n",
              "      fill: #1967D2;\n",
              "      height: 32px;\n",
              "      padding: 0 0 0 0;\n",
              "      width: 32px;\n",
              "    }\n",
              "\n",
              "    .colab-df-convert:hover {\n",
              "      background-color: #E2EBFA;\n",
              "      box-shadow: 0px 1px 2px rgba(60, 64, 67, 0.3), 0px 1px 3px 1px rgba(60, 64, 67, 0.15);\n",
              "      fill: #174EA6;\n",
              "    }\n",
              "\n",
              "    [theme=dark] .colab-df-convert {\n",
              "      background-color: #3B4455;\n",
              "      fill: #D2E3FC;\n",
              "    }\n",
              "\n",
              "    [theme=dark] .colab-df-convert:hover {\n",
              "      background-color: #434B5C;\n",
              "      box-shadow: 0px 1px 3px 1px rgba(0, 0, 0, 0.15);\n",
              "      filter: drop-shadow(0px 1px 2px rgba(0, 0, 0, 0.3));\n",
              "      fill: #FFFFFF;\n",
              "    }\n",
              "  </style>\n",
              "\n",
              "      <script>\n",
              "        const buttonEl =\n",
              "          document.querySelector('#df-e0bd1fd6-cb3e-4289-b3db-d24a5f86bb50 button.colab-df-convert');\n",
              "        buttonEl.style.display =\n",
              "          google.colab.kernel.accessAllowed ? 'block' : 'none';\n",
              "\n",
              "        async function convertToInteractive(key) {\n",
              "          const element = document.querySelector('#df-e0bd1fd6-cb3e-4289-b3db-d24a5f86bb50');\n",
              "          const dataTable =\n",
              "            await google.colab.kernel.invokeFunction('convertToInteractive',\n",
              "                                                     [key], {});\n",
              "          if (!dataTable) return;\n",
              "\n",
              "          const docLinkHtml = 'Like what you see? Visit the ' +\n",
              "            '<a target=\"_blank\" href=https://colab.research.google.com/notebooks/data_table.ipynb>data table notebook</a>'\n",
              "            + ' to learn more about interactive tables.';\n",
              "          element.innerHTML = '';\n",
              "          dataTable['output_type'] = 'display_data';\n",
              "          await google.colab.output.renderOutput(dataTable, element);\n",
              "          const docLink = document.createElement('div');\n",
              "          docLink.innerHTML = docLinkHtml;\n",
              "          element.appendChild(docLink);\n",
              "        }\n",
              "      </script>\n",
              "    </div>\n",
              "  </div>\n",
              "  "
            ]
          },
          "metadata": {},
          "execution_count": 26
        }
      ]
    },
    {
      "cell_type": "code",
      "source": [
        "# Memeriksa dan memVisualisasikan rasio churn mingguan\n",
        "\n",
        "plt.figure(figsize=(16, 6))  \n",
        "sns.barplot(data=churn_state, x='state', y='churn rate (%)', palette='Blues_r');"
      ],
      "metadata": {
        "colab": {
          "base_uri": "https://localhost:8080/",
          "height": 303
        },
        "id": "XSXsrdjwnSAh",
        "outputId": "ac691464-2db4-4e70-95b5-65de5118b51c"
      },
      "execution_count": null,
      "outputs": [
        {
          "output_type": "display_data",
          "data": {
            "text/plain": [
              "<Figure size 1152x432 with 1 Axes>"
            ],
            "image/png": "[encoded data removed]"
          },
          "metadata": {
            "needs_background": "light"
          }
        }
      ]
    },
    {
      "cell_type": "markdown",
      "source": [
        "- NJ dan CA ditemukan memiliki tingkat churn yang sangat tinggi\n",
        "- VA dan HI ditemukan memiliki tingkat churn yang sangat rendah"
      ],
      "metadata": {
        "id": "c1h4_r1mniE4"
      }
    },
    {
      "cell_type": "markdown",
      "source": [
        "Selanjutnya kita perlu emeriksa apakah state dengan churn rate tinggi sebenarnya memiliki banyak chunners atau hanya karena jumlah pelanggannya sedikit"
      ],
      "metadata": {
        "id": "CLNFJZnynOUz"
      }
    },
    {
      "cell_type": "code",
      "source": [
        " state_churn_count = pd.pivot_table(data=df, index='state', columns='churn', values='account_length', aggfunc='count').reset_index()\n",
        " state_churn_count.sort_values(by='yes', ascending=False, inplace=True)\n",
        " state_churn_count.head()"
      ],
      "metadata": {
        "colab": {
          "base_uri": "https://localhost:8080/",
          "height": 206
        },
        "id": "lhSK0u49o5l8",
        "outputId": "636dc7b4-be3e-4cb2-b659-4dc02ff473e8"
      },
      "execution_count": null,
      "outputs": [
        {
          "output_type": "execute_result",
          "data": {
            "text/plain": [
              "churn state   no  yes\n",
              "31       NJ   70   26\n",
              "43       TX   79   19\n",
              "23       MN   89   19\n",
              "49       WV  120   19\n",
              "20       MD   67   19"
            ],
            "text/html": [
              "\n",
              "  <div id=\"df-94de8a42-fc81-4c53-b3f9-d85ba7041890\">\n",
              "    <div class=\"colab-df-container\">\n",
              "      <div>\n",
              "<style scoped>\n",
              "    .dataframe tbody tr th:only-of-type {\n",
              "        vertical-align: middle;\n",
              "    }\n",
              "\n",
              "    .dataframe tbody tr th {\n",
              "        vertical-align: top;\n",
              "    }\n",
              "\n",
              "    .dataframe thead th {\n",
              "        text-align: right;\n",
              "    }\n",
              "</style>\n",
              "<table border=\"1\" class=\"dataframe\">\n",
              "  <thead>\n",
              "    <tr style=\"text-align: right;\">\n",
              "      <th>churn</th>\n",
              "      <th>state</th>\n",
              "      <th>no</th>\n",
              "      <th>yes</th>\n",
              "    </tr>\n",
              "  </thead>\n",
              "  <tbody>\n",
              "    <tr>\n",
              "      <th>31</th>\n",
              "      <td>NJ</td>\n",
              "      <td>70</td>\n",
              "      <td>26</td>\n",
              "    </tr>\n",
              "    <tr>\n",
              "      <th>43</th>\n",
              "      <td>TX</td>\n",
              "      <td>79</td>\n",
              "      <td>19</td>\n",
              "    </tr>\n",
              "    <tr>\n",
              "      <th>23</th>\n",
              "      <td>MN</td>\n",
              "      <td>89</td>\n",
              "      <td>19</td>\n",
              "    </tr>\n",
              "    <tr>\n",
              "      <th>49</th>\n",
              "      <td>WV</td>\n",
              "      <td>120</td>\n",
              "      <td>19</td>\n",
              "    </tr>\n",
              "    <tr>\n",
              "      <th>20</th>\n",
              "      <td>MD</td>\n",
              "      <td>67</td>\n",
              "      <td>19</td>\n",
              "    </tr>\n",
              "  </tbody>\n",
              "</table>\n",
              "</div>\n",
              "      <button class=\"colab-df-convert\" onclick=\"convertToInteractive('df-94de8a42-fc81-4c53-b3f9-d85ba7041890')\"\n",
              "              title=\"Convert this dataframe to an interactive table.\"\n",
              "              style=\"display:none;\">\n",
              "        \n",
              "  <svg xmlns=\"http://www.w3.org/2000/svg\" height=\"24px\"viewBox=\"0 0 24 24\"\n",
              "       width=\"24px\">\n",
              "    <path d=\"M0 0h24v24H0V0z\" fill=\"none\"/>\n",
              "    <path d=\"M18.56 5.44l.94 2.06.94-2.06 2.06-.94-2.06-.94-.94-2.06-.94 2.06-2.06.94zm-11 1L8.5 8.5l.94-2.06 2.06-.94-2.06-.94L8.5 2.5l-.94 2.06-2.06.94zm10 10l.94 2.06.94-2.06 2.06-.94-2.06-.94-.94-2.06-.94 2.06-2.06.94z\"/><path d=\"M17.41 7.96l-1.37-1.37c-.4-.4-.92-.59-1.43-.59-.52 0-1.04.2-1.43.59L10.3 9.45l-7.72 7.72c-.78.78-.78 2.05 0 2.83L4 21.41c.39.39.9.59 1.41.59.51 0 1.02-.2 1.41-.59l7.78-7.78 2.81-2.81c.8-.78.8-2.07 0-2.86zM5.41 20L4 18.59l7.72-7.72 1.47 1.35L5.41 20z\"/>\n",
              "  </svg>\n",
              "      </button>\n",
              "      \n",
              "  <style>\n",
              "    .colab-df-container {\n",
              "      display:flex;\n",
              "      flex-wrap:wrap;\n",
              "      gap: 12px;\n",
              "    }\n",
              "\n",
              "    .colab-df-convert {\n",
              "      background-color: #E8F0FE;\n",
              "      border: none;\n",
              "      border-radius: 50%;\n",
              "      cursor: pointer;\n",
              "      display: none;\n",
              "      fill: #1967D2;\n",
              "      height: 32px;\n",
              "      padding: 0 0 0 0;\n",
              "      width: 32px;\n",
              "    }\n",
              "\n",
              "    .colab-df-convert:hover {\n",
              "      background-color: #E2EBFA;\n",
              "      box-shadow: 0px 1px 2px rgba(60, 64, 67, 0.3), 0px 1px 3px 1px rgba(60, 64, 67, 0.15);\n",
              "      fill: #174EA6;\n",
              "    }\n",
              "\n",
              "    [theme=dark] .colab-df-convert {\n",
              "      background-color: #3B4455;\n",
              "      fill: #D2E3FC;\n",
              "    }\n",
              "\n",
              "    [theme=dark] .colab-df-convert:hover {\n",
              "      background-color: #434B5C;\n",
              "      box-shadow: 0px 1px 3px 1px rgba(0, 0, 0, 0.15);\n",
              "      filter: drop-shadow(0px 1px 2px rgba(0, 0, 0, 0.3));\n",
              "      fill: #FFFFFF;\n",
              "    }\n",
              "  </style>\n",
              "\n",
              "      <script>\n",
              "        const buttonEl =\n",
              "          document.querySelector('#df-94de8a42-fc81-4c53-b3f9-d85ba7041890 button.colab-df-convert');\n",
              "        buttonEl.style.display =\n",
              "          google.colab.kernel.accessAllowed ? 'block' : 'none';\n",
              "\n",
              "        async function convertToInteractive(key) {\n",
              "          const element = document.querySelector('#df-94de8a42-fc81-4c53-b3f9-d85ba7041890');\n",
              "          const dataTable =\n",
              "            await google.colab.kernel.invokeFunction('convertToInteractive',\n",
              "                                                     [key], {});\n",
              "          if (!dataTable) return;\n",
              "\n",
              "          const docLinkHtml = 'Like what you see? Visit the ' +\n",
              "            '<a target=\"_blank\" href=https://colab.research.google.com/notebooks/data_table.ipynb>data table notebook</a>'\n",
              "            + ' to learn more about interactive tables.';\n",
              "          element.innerHTML = '';\n",
              "          dataTable['output_type'] = 'display_data';\n",
              "          await google.colab.output.renderOutput(dataTable, element);\n",
              "          const docLink = document.createElement('div');\n",
              "          docLink.innerHTML = docLinkHtml;\n",
              "          element.appendChild(docLink);\n",
              "        }\n",
              "      </script>\n",
              "    </div>\n",
              "  </div>\n",
              "  "
            ]
          },
          "metadata": {},
          "execution_count": 28
        }
      ]
    },
    {
      "cell_type": "code",
      "source": [
        "# Memeriksa dan memvisualisasikan jumlah chunners per minggu\n",
        "\n",
        "plt.figure(figsize=(16, 6))  \n",
        "sns.barplot(data=state_churn_count, x='state', y='yes', palette='Blues_r');"
      ],
      "metadata": {
        "colab": {
          "base_uri": "https://localhost:8080/",
          "height": 303
        },
        "id": "MqylPpiYpKSr",
        "outputId": "38711f07-4be3-408b-e811-b2d606c4f2de"
      },
      "execution_count": null,
      "outputs": [
        {
          "output_type": "display_data",
          "data": {
            "text/plain": [
              "<Figure size 1152x432 with 1 Axes>"
            ],
            "image/png": "[encoded data removed]"
          },
          "metadata": {
            "needs_background": "light"
          }
        }
      ]
    },
    {
      "cell_type": "markdown",
      "source": [
        "- NJ menjadi state dengan jumlah chunners terbanyak. \n",
        "- VA, HI, dan AK ternyata merupakan state dengan sedikit chunners"
      ],
      "metadata": {
        "id": "UBYCt11spXQW"
      }
    },
    {
      "cell_type": "markdown",
      "source": [
        "###**Tingkat Churn berdasarkan Plan**\n",
        "\n",
        "voice_mail_plan, international_plan merupakan tingkat churn berdasarkan jenis customer\n",
        "\n",
        "1. Tingkat churn dengan atau tanpa voice_mail_plan\n"
      ],
      "metadata": {
        "id": "4e4fMWJdp8t4"
      }
    },
    {
      "cell_type": "code",
      "source": [
        " # churn: yes=1, no=Pada 0, rata-rata sama dengan tingkat churn.\n",
        " sns.barplot(data=df, x='voice_mail_plan', y='churn_0_1', palette='Blues');"
      ],
      "metadata": {
        "colab": {
          "base_uri": "https://localhost:8080/",
          "height": 280
        },
        "id": "f_5_YuVxqijX",
        "outputId": "d054a31d-95f2-4ada-aad2-04842df0c351"
      },
      "execution_count": null,
      "outputs": [
        {
          "output_type": "display_data",
          "data": {
            "text/plain": [
              "<Figure size 432x288 with 1 Axes>"
            ],
            "image/png": "[encoded data removed]"
          },
          "metadata": {
            "needs_background": "light"
          }
        }
      ]
    },
    {
      "cell_type": "markdown",
      "source": [
        "Tingkat customer churn yang tidak menggunakan voice_mail_plan adalah 16%, sedangkan tingkat customer churn yang menggunakan voice_mail_plan adalah sekitar 7%"
      ],
      "metadata": {
        "id": "0uu6w819rFgt"
      }
    },
    {
      "cell_type": "markdown",
      "source": [
        "Uji-t apakah perbedaan rasio signifikan\n",
        "\n",
        "(Sebenarnya rasio bisa dikatakan konsep yang sama dengan mean, jadi boleh saja menggunakan uji-t seperti perbedaan mean)"
      ],
      "metadata": {
        "id": "neH_dn1crcJo"
      }
    },
    {
      "cell_type": "code",
      "source": [
        "import scipy.stats as stats"
      ],
      "metadata": {
        "id": "1kJJgxFXsEjt"
      },
      "execution_count": null,
      "outputs": []
    },
    {
      "cell_type": "code",
      "source": [
        "temp1 = df[df['voice_mail_plan'] == 'yes']\n",
        "temp2 = df[df['voice_mail_plan'] == 'no']\n",
        "\n",
        "# Uji varian dengan Levene\n",
        "lev_result = stats.levene(temp1['churn_0_1'], temp2['churn_0_1'])\n",
        "print('LeveneResult(F) : %.2f \\np-value : %.3f' % (lev_result))"
      ],
      "metadata": {
        "colab": {
          "base_uri": "https://localhost:8080/"
        },
        "id": "Gmok3qy-rnCK",
        "outputId": "6b2ac39b-6f46-4dbf-b999-6f32df9c6f4d"
      },
      "execution_count": null,
      "outputs": [
        {
          "output_type": "stream",
          "name": "stdout",
          "text": [
            "LeveneResult(F) : 56.57 \n",
            "p-value : 0.000\n"
          ]
        }
      ]
    },
    {
      "cell_type": "code",
      "source": [
        " # Menjalankan uji-t sampel independen dengan heterogenitas\n",
        " t_result = stats.ttest_ind(temp1['churn_0_1'], temp2['churn_0_1'], equal_var=False) \n",
        " print('t statistic : %.2f \\np-value : %.3f' % (t_result))"
      ],
      "metadata": {
        "colab": {
          "base_uri": "https://localhost:8080/"
        },
        "id": "xKQCuaFQsThK",
        "outputId": "65396545-2bf1-42f1-e333-5ff9fed3b008"
      },
      "execution_count": null,
      "outputs": [
        {
          "output_type": "stream",
          "name": "stdout",
          "text": [
            "t statistic : -8.84 \n",
            "p-value : 0.000\n"
          ]
        }
      ]
    },
    {
      "cell_type": "markdown",
      "source": [
        "p < 0.01 dan terdapat perbedaan yang cukup jauh bahkan jika dilihat secara visual, sehingga dapat dikakatan bahwa customer yang tidak menggunakan voice_mail_plan memiliki churn rate yang lebih tinggi"
      ],
      "metadata": {
        "id": "B_gGVpBjsb6x"
      }
    },
    {
      "cell_type": "markdown",
      "source": [
        "2. Tingkat churn berdasarkan international_plan"
      ],
      "metadata": {
        "id": "1B3ygDPWs-Ud"
      }
    },
    {
      "cell_type": "code",
      "source": [
        "sns.barplot(data=df, x='international_plan', y='churn_0_1', palette='Blues');"
      ],
      "metadata": {
        "colab": {
          "base_uri": "https://localhost:8080/",
          "height": 280
        },
        "id": "TYFYNUsitFBA",
        "outputId": "d5bcec7a-1abf-4de0-bdf2-0adc4676a72a"
      },
      "execution_count": null,
      "outputs": [
        {
          "output_type": "display_data",
          "data": {
            "text/plain": [
              "<Figure size 432x288 with 1 Axes>"
            ],
            "image/png": "[encoded data removed]"
          },
          "metadata": {
            "needs_background": "light"
          }
        }
      ]
    },
    {
      "cell_type": "markdown",
      "source": [
        "Tingkat customer churn yang tidak menggunakan international_plan sekitar 11%, sedangkan tingkat customer churn yang menggunakan international_plan sekitar 42%"
      ],
      "metadata": {
        "id": "9nhusw2itNM8"
      }
    },
    {
      "cell_type": "code",
      "source": [
        "# Uji-t apakah perbedaan rasio signifiikan\n",
        "\n",
        "temp1 = df[df['international_plan'] == 'yes']\n",
        "temp2 = df[df['international_plan'] == 'no']\n",
        "\n",
        " # Uji varian dengan Levene\n",
        "lev_result = stats.levene(temp1['churn_0_1'], temp2['churn_0_1'])\n",
        "print('LeveneResult(F) : %.2f \\np-value : %.3f' % (lev_result))"
      ],
      "metadata": {
        "colab": {
          "base_uri": "https://localhost:8080/"
        },
        "id": "qNYtP0LFtm4w",
        "outputId": "310b8cf7-ca6a-44b9-870d-7b88d7207b1a"
      },
      "execution_count": null,
      "outputs": [
        {
          "output_type": "stream",
          "name": "stdout",
          "text": [
            "LeveneResult(F) : 305.58 \n",
            "p-value : 0.000\n"
          ]
        }
      ]
    },
    {
      "cell_type": "code",
      "source": [
        " # Menjalankan uji-t sampel independen dengan heterogenitas\n",
        " t_result = stats.ttest_ind(temp1['churn_0_1'], temp2['churn_0_1'], equal_var=False) \n",
        " print('t statistic : %.2f \\np-value : %.3f' % (t_result))"
      ],
      "metadata": {
        "colab": {
          "base_uri": "https://localhost:8080/"
        },
        "id": "UIIjsyLzt6f2",
        "outputId": "129f7a34-5c43-46c7-8131-f704e926892b"
      },
      "execution_count": null,
      "outputs": [
        {
          "output_type": "stream",
          "name": "stdout",
          "text": [
            "t statistic : 12.22 \n",
            "p-value : 0.000\n"
          ]
        }
      ]
    },
    {
      "cell_type": "markdown",
      "source": [
        "- p < 0.01 dan terdapat perbedaan yang besar walaupun dilihat secara visual, sehingga dapat dikatakan bahwa customer yang menggunakan international_plan memiliki churn rate yang lebih tinggi\n",
        "- Tingkat customer churn yang menggunakan international_plan sebesar 42%, maka perlu memeriksaa faktor ketidakpuasan keseluruhan dari plan tersebut"
      ],
      "metadata": {
        "id": "4GivCdjLuEJw"
      }
    },
    {
      "cell_type": "markdown",
      "source": [
        "###**Tingkat Churn sesuai dengan waktu bicara siang hari**\n",
        "\n",
        "1. Distribusi total_day_minutes dan perbandingan rata-rata berdasarkan churn"
      ],
      "metadata": {
        "id": "zb41OGdGuwfn"
      }
    },
    {
      "cell_type": "code",
      "source": [
        "fig, (ax1, ax2) = plt.subplots(ncols=2, figsize=(10, 5))\n",
        "\n",
        "sns.boxplot(data=df, x='churn', y='total_day_minutes', palette='Blues', ax=ax1)\n",
        "sns.barplot(data=df, x='churn', y='total_day_minutes', palette='Blues', ax=ax2)\n",
        "\n",
        "plt.close(2)\n",
        "plt.close(3)\n",
        "plt.tight_layout()"
      ],
      "metadata": {
        "colab": {
          "base_uri": "https://localhost:8080/",
          "height": 369
        },
        "id": "ctBZ5cENuCYT",
        "outputId": "a2c963ef-1329-4f53-afc5-60d0e6ede16c"
      },
      "execution_count": null,
      "outputs": [
        {
          "output_type": "display_data",
          "data": {
            "text/plain": [
              "<Figure size 720x360 with 2 Axes>"
            ],
            "image/png": "[encoded data removed]"
          },
          "metadata": {
            "needs_background": "light"
          }
        }
      ]
    },
    {
      "cell_type": "markdown",
      "source": [
        "Secara keseluruhan total_day_minutes lebih tinggi diantara customer churn"
      ],
      "metadata": {
        "id": "BbMYebRevLBh"
      }
    },
    {
      "cell_type": "markdown",
      "source": [
        "2. Rasio pentalan total_day_minutes berdasarkan kuartil"
      ],
      "metadata": {
        "id": "XlT5M7Kxv6kV"
      }
    },
    {
      "cell_type": "code",
      "source": [
        "temp_df = df[['total_day_minutes', 'churn', 'churn_0_1']]\n",
        "\n",
        "q1, q2, q3 = np.percentile(temp_df['total_day_minutes'], [25, 50, 75])\n",
        "\n",
        "def get_quarter(x):\n",
        "    if x < q1: quarter = '1st_q'\n",
        "    elif x < q2: quarter = '2nd_q'\n",
        "    elif x < q3: quarter = '3rd_q'\n",
        "    else: quarter = '4th_q'\n",
        "    return quarter\n",
        "\n",
        "temp_df['total_day_minutes_quartile'] = temp_df['total_day_minutes'].apply(lambda x: get_quarter(x))\n",
        "temp_df.head()"
      ],
      "metadata": {
        "colab": {
          "base_uri": "https://localhost:8080/",
          "height": 331
        },
        "id": "-p4kYRmKwEhF",
        "outputId": "47e5024d-2f7c-46c1-a710-e772f0a9bb36"
      },
      "execution_count": null,
      "outputs": [
        {
          "output_type": "stream",
          "name": "stderr",
          "text": [
            "/usr/local/lib/python3.7/dist-packages/ipykernel_launcher.py:14: SettingWithCopyWarning: \n",
            "A value is trying to be set on a copy of a slice from a DataFrame.\n",
            "Try using .loc[row_indexer,col_indexer] = value instead\n",
            "\n",
            "See the caveats in the documentation: https://pandas.pydata.org/pandas-docs/stable/user_guide/indexing.html#returning-a-view-versus-a-copy\n",
            "  \n"
          ]
        },
        {
          "output_type": "execute_result",
          "data": {
            "text/plain": [
              "   total_day_minutes churn  churn_0_1 total_day_minutes_quartile\n",
              "0              161.6    no          0                      2nd_q\n",
              "1              243.4    no          0                      4th_q\n",
              "2              299.4    no          0                      4th_q\n",
              "3              166.7    no          0                      2nd_q\n",
              "4              218.2    no          0                      4th_q"
            ],
            "text/html": [
              "\n",
              "  <div id=\"df-4f27c8bc-48df-423c-ab9c-d068c9320796\">\n",
              "    <div class=\"colab-df-container\">\n",
              "      <div>\n",
              "<style scoped>\n",
              "    .dataframe tbody tr th:only-of-type {\n",
              "        vertical-align: middle;\n",
              "    }\n",
              "\n",
              "    .dataframe tbody tr th {\n",
              "        vertical-align: top;\n",
              "    }\n",
              "\n",
              "    .dataframe thead th {\n",
              "        text-align: right;\n",
              "    }\n",
              "</style>\n",
              "<table border=\"1\" class=\"dataframe\">\n",
              "  <thead>\n",
              "    <tr style=\"text-align: right;\">\n",
              "      <th></th>\n",
              "      <th>total_day_minutes</th>\n",
              "      <th>churn</th>\n",
              "      <th>churn_0_1</th>\n",
              "      <th>total_day_minutes_quartile</th>\n",
              "    </tr>\n",
              "  </thead>\n",
              "  <tbody>\n",
              "    <tr>\n",
              "      <th>0</th>\n",
              "      <td>161.6</td>\n",
              "      <td>no</td>\n",
              "      <td>0</td>\n",
              "      <td>2nd_q</td>\n",
              "    </tr>\n",
              "    <tr>\n",
              "      <th>1</th>\n",
              "      <td>243.4</td>\n",
              "      <td>no</td>\n",
              "      <td>0</td>\n",
              "      <td>4th_q</td>\n",
              "    </tr>\n",
              "    <tr>\n",
              "      <th>2</th>\n",
              "      <td>299.4</td>\n",
              "      <td>no</td>\n",
              "      <td>0</td>\n",
              "      <td>4th_q</td>\n",
              "    </tr>\n",
              "    <tr>\n",
              "      <th>3</th>\n",
              "      <td>166.7</td>\n",
              "      <td>no</td>\n",
              "      <td>0</td>\n",
              "      <td>2nd_q</td>\n",
              "    </tr>\n",
              "    <tr>\n",
              "      <th>4</th>\n",
              "      <td>218.2</td>\n",
              "      <td>no</td>\n",
              "      <td>0</td>\n",
              "      <td>4th_q</td>\n",
              "    </tr>\n",
              "  </tbody>\n",
              "</table>\n",
              "</div>\n",
              "      <button class=\"colab-df-convert\" onclick=\"convertToInteractive('df-4f27c8bc-48df-423c-ab9c-d068c9320796')\"\n",
              "              title=\"Convert this dataframe to an interactive table.\"\n",
              "              style=\"display:none;\">\n",
              "        \n",
              "  <svg xmlns=\"http://www.w3.org/2000/svg\" height=\"24px\"viewBox=\"0 0 24 24\"\n",
              "       width=\"24px\">\n",
              "    <path d=\"M0 0h24v24H0V0z\" fill=\"none\"/>\n",
              "    <path d=\"M18.56 5.44l.94 2.06.94-2.06 2.06-.94-2.06-.94-.94-2.06-.94 2.06-2.06.94zm-11 1L8.5 8.5l.94-2.06 2.06-.94-2.06-.94L8.5 2.5l-.94 2.06-2.06.94zm10 10l.94 2.06.94-2.06 2.06-.94-2.06-.94-.94-2.06-.94 2.06-2.06.94z\"/><path d=\"M17.41 7.96l-1.37-1.37c-.4-.4-.92-.59-1.43-.59-.52 0-1.04.2-1.43.59L10.3 9.45l-7.72 7.72c-.78.78-.78 2.05 0 2.83L4 21.41c.39.39.9.59 1.41.59.51 0 1.02-.2 1.41-.59l7.78-7.78 2.81-2.81c.8-.78.8-2.07 0-2.86zM5.41 20L4 18.59l7.72-7.72 1.47 1.35L5.41 20z\"/>\n",
              "  </svg>\n",
              "      </button>\n",
              "      \n",
              "  <style>\n",
              "    .colab-df-container {\n",
              "      display:flex;\n",
              "      flex-wrap:wrap;\n",
              "      gap: 12px;\n",
              "    }\n",
              "\n",
              "    .colab-df-convert {\n",
              "      background-color: #E8F0FE;\n",
              "      border: none;\n",
              "      border-radius: 50%;\n",
              "      cursor: pointer;\n",
              "      display: none;\n",
              "      fill: #1967D2;\n",
              "      height: 32px;\n",
              "      padding: 0 0 0 0;\n",
              "      width: 32px;\n",
              "    }\n",
              "\n",
              "    .colab-df-convert:hover {\n",
              "      background-color: #E2EBFA;\n",
              "      box-shadow: 0px 1px 2px rgba(60, 64, 67, 0.3), 0px 1px 3px 1px rgba(60, 64, 67, 0.15);\n",
              "      fill: #174EA6;\n",
              "    }\n",
              "\n",
              "    [theme=dark] .colab-df-convert {\n",
              "      background-color: #3B4455;\n",
              "      fill: #D2E3FC;\n",
              "    }\n",
              "\n",
              "    [theme=dark] .colab-df-convert:hover {\n",
              "      background-color: #434B5C;\n",
              "      box-shadow: 0px 1px 3px 1px rgba(0, 0, 0, 0.15);\n",
              "      filter: drop-shadow(0px 1px 2px rgba(0, 0, 0, 0.3));\n",
              "      fill: #FFFFFF;\n",
              "    }\n",
              "  </style>\n",
              "\n",
              "      <script>\n",
              "        const buttonEl =\n",
              "          document.querySelector('#df-4f27c8bc-48df-423c-ab9c-d068c9320796 button.colab-df-convert');\n",
              "        buttonEl.style.display =\n",
              "          google.colab.kernel.accessAllowed ? 'block' : 'none';\n",
              "\n",
              "        async function convertToInteractive(key) {\n",
              "          const element = document.querySelector('#df-4f27c8bc-48df-423c-ab9c-d068c9320796');\n",
              "          const dataTable =\n",
              "            await google.colab.kernel.invokeFunction('convertToInteractive',\n",
              "                                                     [key], {});\n",
              "          if (!dataTable) return;\n",
              "\n",
              "          const docLinkHtml = 'Like what you see? Visit the ' +\n",
              "            '<a target=\"_blank\" href=https://colab.research.google.com/notebooks/data_table.ipynb>data table notebook</a>'\n",
              "            + ' to learn more about interactive tables.';\n",
              "          element.innerHTML = '';\n",
              "          dataTable['output_type'] = 'display_data';\n",
              "          await google.colab.output.renderOutput(dataTable, element);\n",
              "          const docLink = document.createElement('div');\n",
              "          docLink.innerHTML = docLinkHtml;\n",
              "          element.appendChild(docLink);\n",
              "        }\n",
              "      </script>\n",
              "    </div>\n",
              "  </div>\n",
              "  "
            ]
          },
          "metadata": {},
          "execution_count": 40
        }
      ]
    },
    {
      "cell_type": "code",
      "source": [
        "# Memvisualisasikan dan Membandingkan tingkat churn total_day_minutes menurut kuartil\n",
        "\n",
        "sns.barplot(data=temp_df, y='total_day_minutes_quartile', x='churn_0_1', order=['4th_q', '3rd_q', '2nd_q', '1st_q'], palette='Blues');"
      ],
      "metadata": {
        "colab": {
          "base_uri": "https://localhost:8080/",
          "height": 280
        },
        "id": "INGPwcZ6wVhi",
        "outputId": "d6b1dcde-9294-46eb-dbd6-a51de55c834a"
      },
      "execution_count": null,
      "outputs": [
        {
          "output_type": "display_data",
          "data": {
            "text/plain": [
              "<Figure size 432x288 with 1 Axes>"
            ],
            "image/png": "[encoded data removed]"
          },
          "metadata": {
            "needs_background": "light"
          }
        }
      ]
    },
    {
      "cell_type": "markdown",
      "source": [
        "Secara khusus pelanggan di kuartil dengan total_day_minutes terbanyak memiliki tingkat churn yang tinggi"
      ],
      "metadata": {
        "id": "7qPJjO-3wjGG"
      }
    },
    {
      "cell_type": "markdown",
      "source": [
        "###**Tingkat Churn berdasarkan  Panggilan Customer Service**\n",
        "\n",
        "1. Distribusi number_customer_service_calls dan perbandingan rata-rata berdasarkan churn"
      ],
      "metadata": {
        "id": "1RwyjBUazTMN"
      }
    },
    {
      "cell_type": "code",
      "source": [
        "fig, (ax1, ax2) = plt.subplots(ncols=2, figsize=(10, 5))\n",
        "\n",
        "sns.boxplot(data=df, x='churn', y='number_customer_service_calls', palette='Blues', ax=ax1)\n",
        "sns.barplot(data=df, x='churn', y='number_customer_service_calls', palette='Blues', ax=ax2)\n",
        "\n",
        "plt.close(2)\n",
        "plt.close(3)\n",
        "plt.tight_layout()"
      ],
      "metadata": {
        "colab": {
          "base_uri": "https://localhost:8080/",
          "height": 369
        },
        "id": "9hwujpG6ztoR",
        "outputId": "bdc7e2db-d398-493f-c778-f28e04d38511"
      },
      "execution_count": null,
      "outputs": [
        {
          "output_type": "display_data",
          "data": {
            "text/plain": [
              "<Figure size 720x360 with 2 Axes>"
            ],
            "image/png": "[encoded data removed]"
          },
          "metadata": {
            "needs_background": "light"
          }
        }
      ]
    },
    {
      "cell_type": "markdown",
      "source": [
        "Tampak bahwa number_customer_service_calls adalah jumlah keseluruhan panggilan ke Customer Service"
      ],
      "metadata": {
        "id": "PO4I_xDGz93d"
      }
    },
    {
      "cell_type": "markdown",
      "source": [
        "2. Distribusi chunners dan non-chunners berdasarkan number)customer_service_calls"
      ],
      "metadata": {
        "id": "6RGpdPMO2icC"
      }
    },
    {
      "cell_type": "code",
      "source": [
        "plt.figure(figsize=(8, 6))\n",
        "sns.countplot(data=df, x='number_customer_service_calls', hue='churn', palette='Blues_r');"
      ],
      "metadata": {
        "colab": {
          "base_uri": "https://localhost:8080/",
          "height": 389
        },
        "id": "mjSPdIGW2C5M",
        "outputId": "3363c7ea-29dc-41f6-8193-a3c85ebfd677"
      },
      "execution_count": null,
      "outputs": [
        {
          "output_type": "display_data",
          "data": {
            "text/plain": [
              "<Figure size 576x432 with 1 Axes>"
            ],
            "image/png": "[encoded data removed]"
          },
          "metadata": {
            "needs_background": "light"
          }
        }
      ]
    },
    {
      "cell_type": "markdown",
      "source": [
        "3. Rasio Churn berdasarkan number_customer_service_calls menurut grup"
      ],
      "metadata": {
        "id": "3pmC1ioU2kyt"
      }
    },
    {
      "cell_type": "code",
      "source": [
        "# Bagi jumlah panggilan menjadi 4 atau lebih / 3 atau kurang panggilan dan lampirkan keterangannya\n",
        "temp_df = df[['number_customer_service_calls', 'churn', 'churn_0_1']]\n",
        "temp_df['customer_service_calls_flag'] = temp_df['number_customer_service_calls'].apply(lambda x: 'more than 4' if x >= 4 else 'less than 3')\n",
        "\n",
        "# membandingkan number_customer_service_calls berdasarkan Grup churn rate\n",
        "sns.barplot(data=temp_df, y='customer_service_calls_flag', x='churn_0_1', palette='Blues');"
      ],
      "metadata": {
        "colab": {
          "base_uri": "https://localhost:8080/",
          "height": 404
        },
        "id": "lowGLgT_2acG",
        "outputId": "65bf6f77-48a9-4a2d-c5af-0175db0d93bc"
      },
      "execution_count": null,
      "outputs": [
        {
          "output_type": "stream",
          "name": "stderr",
          "text": [
            "/usr/local/lib/python3.7/dist-packages/ipykernel_launcher.py:3: SettingWithCopyWarning: \n",
            "A value is trying to be set on a copy of a slice from a DataFrame.\n",
            "Try using .loc[row_indexer,col_indexer] = value instead\n",
            "\n",
            "See the caveats in the documentation: https://pandas.pydata.org/pandas-docs/stable/user_guide/indexing.html#returning-a-view-versus-a-copy\n",
            "  This is separate from the ipykernel package so we can avoid doing imports until\n"
          ]
        },
        {
          "output_type": "display_data",
          "data": {
            "text/plain": [
              "<Figure size 432x288 with 1 Axes>"
            ],
            "image/png": "[encoded data removed]"
          },
          "metadata": {
            "needs_background": "light"
          }
        }
      ]
    },
    {
      "cell_type": "markdown",
      "source": [
        "50% customer yang telah melakukan panggilan CS 4 atau lebih -> dianggap membutuhkan manajemen customer experience khusus"
      ],
      "metadata": {
        "id": "jlQV1oVt3UaV"
      }
    },
    {
      "cell_type": "markdown",
      "source": [
        "###**Rasio Churn berdasarkan Jumlah Pesan Suara**\n",
        "\n",
        "1. Perbandingan distribusi number_vmail_messages dan rata-rata menurut churn"
      ],
      "metadata": {
        "id": "ETGVtsah7if6"
      }
    },
    {
      "cell_type": "code",
      "source": [
        "fig, (ax1, ax2) = plt.subplots(ncols=2, figsize=(10, 5))\n",
        "\n",
        "sns.boxplot(data=df, x='churn', y='number_vmail_messages', palette='Blues', ax=ax1)\n",
        "sns.barplot(data=df, x='churn', y='number_vmail_messages', palette='Blues', ax=ax2)\n",
        "\n",
        "plt.close(2)\n",
        "plt.close(3)\n",
        "plt.tight_layout()"
      ],
      "metadata": {
        "colab": {
          "base_uri": "https://localhost:8080/",
          "height": 369
        },
        "id": "LHMz7Sd073Of",
        "outputId": "c246c219-c47b-43d2-b46b-ef60b6379b70"
      },
      "execution_count": null,
      "outputs": [
        {
          "output_type": "display_data",
          "data": {
            "text/plain": [
              "<Figure size 720x360 with 2 Axes>"
            ],
            "image/png": "[encoded data removed]"
          },
          "metadata": {
            "needs_background": "light"
          }
        }
      ]
    },
    {
      "cell_type": "markdown",
      "source": [
        "Tampak bahwa number_vmail_messages adalah 0 dalam banyak kasus, karena voice_mail_plan tidak digunakan oleh pelanggan churn"
      ],
      "metadata": {
        "id": "_NBw9ty28PzH"
      }
    },
    {
      "cell_type": "markdown",
      "source": [
        "2. membandingkan ketika voice_mail_plan = 0\n",
        "\n",
        "Jika voice_mail_plan tidak digunakan, vmail_messsages adalah 0"
      ],
      "metadata": {
        "id": "JFeRE1z59XPV"
      }
    },
    {
      "cell_type": "code",
      "source": [
        "vmail_customer = df[df['voice_mail_plan'] == 'yes']\n",
        "\n",
        "fig, (ax1, ax2) = plt.subplots(ncols=2, figsize=(10, 5))\n",
        "\n",
        "sns.boxplot(data=vmail_customer, x='churn', y='number_vmail_messages', palette='Blues', ax=ax1)\n",
        "sns.barplot(data=vmail_customer, x='churn', y='number_vmail_messages', palette='Blues', ax=ax2)\n",
        "\n",
        "plt.close(2)\n",
        "plt.close(3)\n",
        "plt.tight_layout()"
      ],
      "metadata": {
        "colab": {
          "base_uri": "https://localhost:8080/",
          "height": 369
        },
        "id": "f9OTLeBC9quB",
        "outputId": "ef031f1b-3fc5-4a45-d43f-fda85536e17b"
      },
      "execution_count": null,
      "outputs": [
        {
          "output_type": "display_data",
          "data": {
            "text/plain": [
              "<Figure size 720x360 with 2 Axes>"
            ],
            "image/png": "[encoded data removed]"
          },
          "metadata": {
            "needs_background": "light"
          }
        }
      ]
    },
    {
      "cell_type": "markdown",
      "source": [
        "Saat membandingkan hanya customer yang menggunakan voice_mail_plan, dapat dipastikan bahwa number_vmail_messages tidak berubah secara signifikan tergantung apakah mereka churn atau tidak churn"
      ],
      "metadata": {
        "id": "y6PJN93SDFb5"
      }
    },
    {
      "cell_type": "markdown",
      "source": [
        "3. Distribusi churn dan non churn berdasarkan number_vmail_messages\n",
        "\n",
        "Visualisasi kecuali jika number_vmail_messages = 0 (jumlah kasus sangat banyak 0)"
      ],
      "metadata": {
        "id": "Xp8TGwmPaMgg"
      }
    },
    {
      "cell_type": "code",
      "source": [
        " plt.figure(figsize=(15, 6))\n",
        " sns.countplot(data=df[df['number_vmail_messages'] != 0], x='number_vmail_messages', hue='churn', palette='Blues_r');"
      ],
      "metadata": {
        "colab": {
          "base_uri": "https://localhost:8080/",
          "height": 321
        },
        "id": "7Ygt8kKjbW7F",
        "outputId": "f5502a28-9d8b-4185-d271-32451a2c34fc"
      },
      "execution_count": null,
      "outputs": [
        {
          "output_type": "display_data",
          "data": {
            "text/plain": [
              "<Figure size 1080x432 with 1 Axes>"
            ],
            "image/png": "[encoded data removed]"
          },
          "metadata": {
            "needs_background": "light"
          }
        }
      ]
    },
    {
      "cell_type": "markdown",
      "source": [
        "4. Perbandingan rasio churn menurut number_vmail_messages"
      ],
      "metadata": {
        "id": "u1C3fRfdbqQ9"
      }
    },
    {
      "cell_type": "code",
      "source": [
        " plt.figure(figsize=(15, 6))\n",
        " sns.barplot(data=df, x='number_vmail_messages', y ='churn_0_1', palette='Blues_r', ci=None);"
      ],
      "metadata": {
        "colab": {
          "base_uri": "https://localhost:8080/",
          "height": 320
        },
        "id": "ZE5ADhj5bwVU",
        "outputId": "65ef6e6d-6090-4766-886c-f749be695a5e"
      },
      "execution_count": null,
      "outputs": [
        {
          "output_type": "display_data",
          "data": {
            "text/plain": [
              "<Figure size 1080x432 with 1 Axes>"
            ],
            "image/png": "[encoded data removed]"
          },
          "metadata": {
            "needs_background": "light"
          }
        }
      ]
    },
    {
      "cell_type": "markdown",
      "source": [
        "- number_vmail_messages yang rendah tidak berarti banyak, kecuali jika vnumber_vmail_messages = 0\n",
        "- Tampaknya sulit untuk menentukan apakah customer churn hanya dengan number_vmail_messages"
      ],
      "metadata": {
        "id": "oJkLPUhScHAb"
      }
    },
    {
      "cell_type": "markdown",
      "source": [
        "###**Memvisualisasikan Prosentase Churn**\n",
        "\n",
        "Kita ingin melihat visualisasi data secara univariat terkait prosentase data churn dari pelanggan. Gunakan fungsi value_counts() untuk menghitung banyaknya unik dari sebuah kolom, pie() untuk membuat pie chart"
      ],
      "metadata": {
        "id": "Wd_1bS9j1LEp"
      }
    },
    {
      "cell_type": "code",
      "source": [
        "from matplotlib import pyplot as plt\n",
        "import numpy as np\n",
        "#Your codes here\n",
        "fig = plt.figure()\n",
        "ax = fig.add_axes([0,0,1,1])\n",
        "ax.axis('equal')\n",
        "labels = ['Non Churn Customer','Churn Customer']\n",
        "churn = df.churn.value_counts()\n",
        "ax.pie(churn, labels=labels, autopct='%.0f%%')\n",
        "plt.show()"
      ],
      "metadata": {
        "colab": {
          "base_uri": "https://localhost:8080/",
          "height": 319
        },
        "id": "JOfEDlR80Wc4",
        "outputId": "1768e757-3380-4671-b5cb-c85458e2a0c8"
      },
      "execution_count": null,
      "outputs": [
        {
          "output_type": "display_data",
          "data": {
            "text/plain": [
              "<Figure size 432x288 with 1 Axes>"
            ],
            "image/png": "[encoded data removed]"
          },
          "metadata": {}
        }
      ]
    },
    {
      "cell_type": "markdown",
      "source": [
        "Berdasarkan hasil di atas, maka dapat kita ketahui bahwa sebaran data secara kekseluruhan customer tidak melakukan churn, dengan presentase 14% dari total customer melakukan churn dan 86% dari total customer tidak melakukan churn."
      ],
      "metadata": {
        "id": "tDJNBj6ibkEY"
      }
    },
    {
      "cell_type": "markdown",
      "source": [
        "###**Exploratory Data Analysis (EDA) Variabel Numerik**"
      ],
      "metadata": {
        "id": "hEWZSbzB2BBM"
      }
    },
    {
      "cell_type": "markdown",
      "source": [
        "Hal yang akan kita lakukan selanjutnya adalah memilih variable predictor yang bersifat numerik dan membuat plot secara bivariat, kemudian menginterpretasikannya"
      ],
      "metadata": {
        "id": "XQeroboGaMuu"
      }
    },
    {
      "cell_type": "markdown",
      "source": [
        "Dengan menggunakan fungsi subplots() untuk membuat gambar dan satu det subplot"
      ],
      "metadata": {
        "id": "rPihThAUcP6i"
      }
    },
    {
      "cell_type": "code",
      "source": [
        "from matplotlib import pyplot as plt\n",
        "import numpy as np\n",
        "\n",
        "#creating bin in chart\n",
        "numerical_features = ['number_vmail_messages', 'total_day_minutes', 'total_day_calls', 'total_day_charge', 'total_eve_minutes']\n",
        "fig, ax = plt.subplots(1, 5, figsize=(15, 6))\n",
        "# Use the following code to plot two overlays of histogram per each numerical_features, use a color of blue and orange, respectively\n",
        "df[df.churn == 'no'][numerical_features].hist(bins=20, color='blue', alpha=0.5, ax=ax)\n",
        "df[df.churn == 'yes'][numerical_features].hist(bins=20, color='orange', alpha=0.5, ax=ax)\n",
        "plt.show()"
      ],
      "metadata": {
        "colab": {
          "base_uri": "https://localhost:8080/",
          "height": 323
        },
        "id": "xa8IBpJV-Ms6",
        "outputId": "d2b540e3-162a-48c9-be4f-39872677aeb5"
      },
      "execution_count": null,
      "outputs": [
        {
          "output_type": "display_data",
          "data": {
            "text/plain": [
              "<Figure size 1080x432 with 5 Axes>"
            ],
            "image/png": "[encoded data removed]"
          },
          "metadata": {
            "needs_background": "light"
          }
        }
      ]
    },
    {
      "cell_type": "code",
      "source": [
        "from matplotlib import pyplot as plt\n",
        "import numpy as np\n",
        "\n",
        "#creating bin in chart\n",
        "numerical_features = ['total_eve_calls', 'total_eve_charge', 'total_night_minutes', 'total_night_calls', 'total_night_charge']\n",
        "fig, ax = plt.subplots(1, 5, figsize=(15, 6))\n",
        "# Use the following code to plot two overlays of histogram per each numerical_features, use a color of blue and orange, respectively\n",
        "df[df.churn == 'no'][numerical_features].hist(bins=20, color='blue', alpha=0.5, ax=ax)\n",
        "df[df.churn == 'yes'][numerical_features].hist(bins=20, color='orange', alpha=0.5, ax=ax)\n",
        "plt.show()"
      ],
      "metadata": {
        "colab": {
          "base_uri": "https://localhost:8080/",
          "height": 410
        },
        "id": "nBNEB4XFAz6v",
        "outputId": "2c355c75-62d7-450f-dac8-a3c8430671ba"
      },
      "execution_count": null,
      "outputs": [
        {
          "output_type": "display_data",
          "data": {
            "text/plain": [
              "<Figure size 1080x432 with 5 Axes>"
            ],
            "image/png": "[encoded data removed]"
          },
          "metadata": {
            "needs_background": "light"
          }
        }
      ]
    },
    {
      "cell_type": "code",
      "source": [
        "from matplotlib import pyplot as plt\n",
        "import numpy as np\n",
        "\n",
        "#creating bin in chart\n",
        "numerical_features = ['total_intl_minutes', 'total_intl_calls', 'total_intl_charge', 'number_customer_service_calls']\n",
        "fig, ax = plt.subplots(1, 4, figsize=(15, 6))\n",
        "# Use the following code to plot two overlays of histogram per each numerical_features, use a color of blue and orange, respectively\n",
        "df[df.churn == 'no'][numerical_features].hist(bins=20, color='blue', alpha=0.5, ax=ax)\n",
        "df[df.churn == 'yes'][numerical_features].hist(bins=20, color='orange', alpha=0.5, ax=ax)\n",
        "plt.show()"
      ],
      "metadata": {
        "colab": {
          "base_uri": "https://localhost:8080/",
          "height": 321
        },
        "id": "tGxKP0KmBTPc",
        "outputId": "446e55a0-05ce-4283-9c2e-04cec036e54c"
      },
      "execution_count": null,
      "outputs": [
        {
          "output_type": "display_data",
          "data": {
            "text/plain": [
              "<Figure size 1080x432 with 4 Axes>"
            ],
            "image/png": "[encoded data removed]"
          },
          "metadata": {
            "needs_background": "light"
          }
        }
      ]
    },
    {
      "cell_type": "markdown",
      "source": [
        "###**Exploratory data Analysis (EDA) Variabel Kategorik**"
      ],
      "metadata": {
        "id": "VvT8Huv5WaLP"
      }
    },
    {
      "cell_type": "markdown",
      "source": [
        "Setelah itu, kita akan melakukan pemilihan variable predictor yang bersifat kategorik dan membuat plot secara bivariat, kemudian menginterpretasikannya. Dengan menggunakan fungsi countplot() untuk membuat plot dnegan jumlah pengamatan di setiap bin kategorik variable."
      ],
      "metadata": {
        "id": "jshgGe_xaRJ2"
      }
    },
    {
      "cell_type": "code",
      "source": [
        "from matplotlib import pyplot as plt\n",
        "import numpy as np\n",
        "import seaborn as sns \n",
        "sns.set(style='darkgrid')\n",
        "# Your code goes here\n",
        "fig, ax = plt.subplots(3, 3, figsize=(14, 12))\n",
        "sns.countplot(data=df, x='area_code', hue='churn', ax=ax[0][0])\n",
        "sns.countplot(data=df, x='international_plan', hue='churn', ax=ax[0][1])\n",
        "sns.countplot(data=df, x='voice_mail_plan', hue='churn', ax=ax[0][2])\n",
        "plt.tight_layout()\n",
        "plt.show()"
      ],
      "metadata": {
        "colab": {
          "base_uri": "https://localhost:8080/",
          "height": 636
        },
        "id": "6QyAIn76WhZ1",
        "outputId": "545de0e8-4e9b-4393-eb8d-213c00432f8d"
      },
      "execution_count": null,
      "outputs": [
        {
          "output_type": "display_data",
          "data": {
            "text/plain": [
              "<Figure size 1008x864 with 9 Axes>"
            ],
            "image/png": "[encoded data removed]"
          },
          "metadata": {}
        }
      ]
    },
    {
      "cell_type": "markdown",
      "source": [
        "###**Kesimpulan**\n",
        "Berdasarkan hasil dan analisa di atas dapat disimpulkan:\n",
        "1. Dapat kita ketahui bahwa sebaran data secara kekseluruhan customer tidak melakukan churn, dengan presentase 14% dari total customer melakukan churn dan 86% dari total customer tidak melakukan churn."
      ],
      "metadata": {
        "id": "9bHWrP_LaW--"
      }
    },
    {
      "cell_type": "code",
      "source": [
        "import seaborn as seaborn\n",
        "df.corr()"
      ],
      "metadata": {
        "colab": {
          "base_uri": "https://localhost:8080/",
          "height": 584
        },
        "id": "kWPM_0jV2moW",
        "outputId": "f1f3f783-6f17-4306-ee33-11aa1c5d197d"
      },
      "execution_count": null,
      "outputs": [
        {
          "output_type": "execute_result",
          "data": {
            "text/plain": [
              "                               account_length  number_vmail_messages  \\\n",
              "account_length                       1.000000              -0.006626   \n",
              "number_vmail_messages               -0.006626               1.000000   \n",
              "total_day_minutes                   -0.001612               0.002000   \n",
              "total_day_calls                      0.023002              -0.006920   \n",
              "total_day_charge                    -0.001613               0.001994   \n",
              "total_eve_minutes                   -0.010326               0.010725   \n",
              "total_eve_calls                      0.005535               0.003593   \n",
              "total_eve_charge                    -0.010322               0.010736   \n",
              "total_night_minutes                 -0.009916               0.018308   \n",
              "total_night_calls                   -0.001846               0.001977   \n",
              "total_night_charge                  -0.009942               0.018300   \n",
              "total_intl_minutes                   0.004539               0.005220   \n",
              "total_intl_calls                     0.013690               0.006585   \n",
              "total_intl_charge                    0.004494               0.005249   \n",
              "number_customer_service_calls        0.001002              -0.015303   \n",
              "\n",
              "                               total_day_minutes  total_day_calls  \\\n",
              "account_length                         -0.001612         0.023002   \n",
              "number_vmail_messages                   0.002000        -0.006920   \n",
              "total_day_minutes                       1.000000         0.000747   \n",
              "total_day_calls                         0.000747         1.000000   \n",
              "total_day_charge                        1.000000         0.000751   \n",
              "total_eve_minutes                      -0.013248         0.008661   \n",
              "total_eve_calls                         0.005986         0.003739   \n",
              "total_eve_charge                       -0.013258         0.008663   \n",
              "total_night_minutes                     0.010049         0.002206   \n",
              "total_night_calls                      -0.004812        -0.004815   \n",
              "total_night_charge                      0.010036         0.002200   \n",
              "total_intl_minutes                     -0.021369         0.008834   \n",
              "total_intl_calls                        0.003859         0.009377   \n",
              "total_intl_charge                      -0.021291         0.008909   \n",
              "number_customer_service_calls          -0.002925        -0.015845   \n",
              "\n",
              "                               total_day_charge  total_eve_minutes  \\\n",
              "account_length                        -0.001613          -0.010326   \n",
              "number_vmail_messages                  0.001994           0.010725   \n",
              "total_day_minutes                      1.000000          -0.013248   \n",
              "total_day_calls                        0.000751           0.008661   \n",
              "total_day_charge                       1.000000          -0.013247   \n",
              "total_eve_minutes                     -0.013247           1.000000   \n",
              "total_eve_calls                        0.005985           0.003101   \n",
              "total_eve_charge                      -0.013257           1.000000   \n",
              "total_night_minutes                    0.010053          -0.014018   \n",
              "total_night_calls                     -0.004816           0.011973   \n",
              "total_night_charge                     0.010040          -0.014031   \n",
              "total_intl_minutes                    -0.021374          -0.003509   \n",
              "total_intl_calls                       0.003853           0.012239   \n",
              "total_intl_charge                     -0.021296          -0.003460   \n",
              "number_customer_service_calls         -0.002932          -0.010063   \n",
              "\n",
              "                               total_eve_calls  total_eve_charge  \\\n",
              "account_length                        0.005535         -0.010322   \n",
              "number_vmail_messages                 0.003593          0.010736   \n",
              "total_day_minutes                     0.005986         -0.013258   \n",
              "total_day_calls                       0.003739          0.008663   \n",
              "total_day_charge                      0.005985         -0.013257   \n",
              "total_eve_minutes                     0.003101          1.000000   \n",
              "total_eve_calls                       1.000000          0.003120   \n",
              "total_eve_charge                      0.003120          1.000000   \n",
              "total_night_minutes                   0.008425         -0.014022   \n",
              "total_night_calls                    -0.011929          0.011971   \n",
              "total_night_charge                    0.008441         -0.014035   \n",
              "total_intl_minutes                   -0.013096         -0.003512   \n",
              "total_intl_calls                      0.004949          0.012239   \n",
              "total_intl_charge                    -0.013145         -0.003463   \n",
              "number_customer_service_calls         0.006956         -0.010071   \n",
              "\n",
              "                               total_night_minutes  total_night_calls  \\\n",
              "account_length                           -0.009916          -0.001846   \n",
              "number_vmail_messages                     0.018308           0.001977   \n",
              "total_day_minutes                         0.010049          -0.004812   \n",
              "total_day_calls                           0.002206          -0.004815   \n",
              "total_day_charge                          0.010053          -0.004816   \n",
              "total_eve_minutes                        -0.014018           0.011973   \n",
              "total_eve_calls                           0.008425          -0.011929   \n",
              "total_eve_charge                         -0.014022           0.011971   \n",
              "total_night_minutes                       1.000000           0.023815   \n",
              "total_night_calls                         0.023815           1.000000   \n",
              "total_night_charge                        0.999999           0.023798   \n",
              "total_intl_minutes                       -0.000113           0.001093   \n",
              "total_intl_calls                         -0.024280           0.003851   \n",
              "total_intl_charge                        -0.000047           0.001054   \n",
              "number_customer_service_calls            -0.013771          -0.008893   \n",
              "\n",
              "                               total_night_charge  total_intl_minutes  \\\n",
              "account_length                          -0.009942            0.004539   \n",
              "number_vmail_messages                    0.018300            0.005220   \n",
              "total_day_minutes                        0.010036           -0.021369   \n",
              "total_day_calls                          0.002200            0.008834   \n",
              "total_day_charge                         0.010040           -0.021374   \n",
              "total_eve_minutes                       -0.014031           -0.003509   \n",
              "total_eve_calls                          0.008441           -0.013096   \n",
              "total_eve_charge                        -0.014035           -0.003512   \n",
              "total_night_minutes                      0.999999           -0.000113   \n",
              "total_night_calls                        0.023798            0.001093   \n",
              "total_night_charge                       1.000000           -0.000103   \n",
              "total_intl_minutes                      -0.000103            1.000000   \n",
              "total_intl_calls                        -0.024260            0.019328   \n",
              "total_intl_charge                       -0.000037            0.999993   \n",
              "number_customer_service_calls           -0.013761           -0.013994   \n",
              "\n",
              "                               total_intl_calls  total_intl_charge  \\\n",
              "account_length                         0.013690           0.004494   \n",
              "number_vmail_messages                  0.006585           0.005249   \n",
              "total_day_minutes                      0.003859          -0.021291   \n",
              "total_day_calls                        0.009377           0.008909   \n",
              "total_day_charge                       0.003853          -0.021296   \n",
              "total_eve_minutes                      0.012239          -0.003460   \n",
              "total_eve_calls                        0.004949          -0.013145   \n",
              "total_eve_charge                       0.012239          -0.003463   \n",
              "total_night_minutes                   -0.024280          -0.000047   \n",
              "total_night_calls                      0.003851           0.001054   \n",
              "total_night_charge                    -0.024260          -0.000037   \n",
              "total_intl_minutes                     0.019328           0.999993   \n",
              "total_intl_calls                       1.000000           0.019414   \n",
              "total_intl_charge                      0.019414           1.000000   \n",
              "number_customer_service_calls         -0.015302          -0.014051   \n",
              "\n",
              "                               number_customer_service_calls  \n",
              "account_length                                      0.001002  \n",
              "number_vmail_messages                              -0.015303  \n",
              "total_day_minutes                                  -0.002925  \n",
              "total_day_calls                                    -0.015845  \n",
              "total_day_charge                                   -0.002932  \n",
              "total_eve_minutes                                  -0.010063  \n",
              "total_eve_calls                                     0.006956  \n",
              "total_eve_charge                                   -0.010071  \n",
              "total_night_minutes                                -0.013771  \n",
              "total_night_calls                                  -0.008893  \n",
              "total_night_charge                                 -0.013761  \n",
              "total_intl_minutes                                 -0.013994  \n",
              "total_intl_calls                                   -0.015302  \n",
              "total_intl_charge                                  -0.014051  \n",
              "number_customer_service_calls                       1.000000  "
            ],
            "text/html": [
              "\n",
              "  <div id=\"df-6014f768-b03d-4351-96e8-f6f3578d65f8\">\n",
              "    <div class=\"colab-df-container\">\n",
              "      <div>\n",
              "<style scoped>\n",
              "    .dataframe tbody tr th:only-of-type {\n",
              "        vertical-align: middle;\n",
              "    }\n",
              "\n",
              "    .dataframe tbody tr th {\n",
              "        vertical-align: top;\n",
              "    }\n",
              "\n",
              "    .dataframe thead th {\n",
              "        text-align: right;\n",
              "    }\n",
              "</style>\n",
              "<table border=\"1\" class=\"dataframe\">\n",
              "  <thead>\n",
              "    <tr style=\"text-align: right;\">\n",
              "      <th></th>\n",
              "      <th>account_length</th>\n",
              "      <th>number_vmail_messages</th>\n",
              "      <th>total_day_minutes</th>\n",
              "      <th>total_day_calls</th>\n",
              "      <th>total_day_charge</th>\n",
              "      <th>total_eve_minutes</th>\n",
              "      <th>total_eve_calls</th>\n",
              "      <th>total_eve_charge</th>\n",
              "      <th>total_night_minutes</th>\n",
              "      <th>total_night_calls</th>\n",
              "      <th>total_night_charge</th>\n",
              "      <th>total_intl_minutes</th>\n",
              "      <th>total_intl_calls</th>\n",
              "      <th>total_intl_charge</th>\n",
              "      <th>number_customer_service_calls</th>\n",
              "    </tr>\n",
              "  </thead>\n",
              "  <tbody>\n",
              "    <tr>\n",
              "      <th>account_length</th>\n",
              "      <td>1.000000</td>\n",
              "      <td>-0.006626</td>\n",
              "      <td>-0.001612</td>\n",
              "      <td>0.023002</td>\n",
              "      <td>-0.001613</td>\n",
              "      <td>-0.010326</td>\n",
              "      <td>0.005535</td>\n",
              "      <td>-0.010322</td>\n",
              "      <td>-0.009916</td>\n",
              "      <td>-0.001846</td>\n",
              "      <td>-0.009942</td>\n",
              "      <td>0.004539</td>\n",
              "      <td>0.013690</td>\n",
              "      <td>0.004494</td>\n",
              "      <td>0.001002</td>\n",
              "    </tr>\n",
              "    <tr>\n",
              "      <th>number_vmail_messages</th>\n",
              "      <td>-0.006626</td>\n",
              "      <td>1.000000</td>\n",
              "      <td>0.002000</td>\n",
              "      <td>-0.006920</td>\n",
              "      <td>0.001994</td>\n",
              "      <td>0.010725</td>\n",
              "      <td>0.003593</td>\n",
              "      <td>0.010736</td>\n",
              "      <td>0.018308</td>\n",
              "      <td>0.001977</td>\n",
              "      <td>0.018300</td>\n",
              "      <td>0.005220</td>\n",
              "      <td>0.006585</td>\n",
              "      <td>0.005249</td>\n",
              "      <td>-0.015303</td>\n",
              "    </tr>\n",
              "    <tr>\n",
              "      <th>total_day_minutes</th>\n",
              "      <td>-0.001612</td>\n",
              "      <td>0.002000</td>\n",
              "      <td>1.000000</td>\n",
              "      <td>0.000747</td>\n",
              "      <td>1.000000</td>\n",
              "      <td>-0.013248</td>\n",
              "      <td>0.005986</td>\n",
              "      <td>-0.013258</td>\n",
              "      <td>0.010049</td>\n",
              "      <td>-0.004812</td>\n",
              "      <td>0.010036</td>\n",
              "      <td>-0.021369</td>\n",
              "      <td>0.003859</td>\n",
              "      <td>-0.021291</td>\n",
              "      <td>-0.002925</td>\n",
              "    </tr>\n",
              "    <tr>\n",
              "      <th>total_day_calls</th>\n",
              "      <td>0.023002</td>\n",
              "      <td>-0.006920</td>\n",
              "      <td>0.000747</td>\n",
              "      <td>1.000000</td>\n",
              "      <td>0.000751</td>\n",
              "      <td>0.008661</td>\n",
              "      <td>0.003739</td>\n",
              "      <td>0.008663</td>\n",
              "      <td>0.002206</td>\n",
              "      <td>-0.004815</td>\n",
              "      <td>0.002200</td>\n",
              "      <td>0.008834</td>\n",
              "      <td>0.009377</td>\n",
              "      <td>0.008909</td>\n",
              "      <td>-0.015845</td>\n",
              "    </tr>\n",
              "    <tr>\n",
              "      <th>total_day_charge</th>\n",
              "      <td>-0.001613</td>\n",
              "      <td>0.001994</td>\n",
              "      <td>1.000000</td>\n",
              "      <td>0.000751</td>\n",
              "      <td>1.000000</td>\n",
              "      <td>-0.013247</td>\n",
              "      <td>0.005985</td>\n",
              "      <td>-0.013257</td>\n",
              "      <td>0.010053</td>\n",
              "      <td>-0.004816</td>\n",
              "      <td>0.010040</td>\n",
              "      <td>-0.021374</td>\n",
              "      <td>0.003853</td>\n",
              "      <td>-0.021296</td>\n",
              "      <td>-0.002932</td>\n",
              "    </tr>\n",
              "    <tr>\n",
              "      <th>total_eve_minutes</th>\n",
              "      <td>-0.010326</td>\n",
              "      <td>0.010725</td>\n",
              "      <td>-0.013248</td>\n",
              "      <td>0.008661</td>\n",
              "      <td>-0.013247</td>\n",
              "      <td>1.000000</td>\n",
              "      <td>0.003101</td>\n",
              "      <td>1.000000</td>\n",
              "      <td>-0.014018</td>\n",
              "      <td>0.011973</td>\n",
              "      <td>-0.014031</td>\n",
              "      <td>-0.003509</td>\n",
              "      <td>0.012239</td>\n",
              "      <td>-0.003460</td>\n",
              "      <td>-0.010063</td>\n",
              "    </tr>\n",
              "    <tr>\n",
              "      <th>total_eve_calls</th>\n",
              "      <td>0.005535</td>\n",
              "      <td>0.003593</td>\n",
              "      <td>0.005986</td>\n",
              "      <td>0.003739</td>\n",
              "      <td>0.005985</td>\n",
              "      <td>0.003101</td>\n",
              "      <td>1.000000</td>\n",
              "      <td>0.003120</td>\n",
              "      <td>0.008425</td>\n",
              "      <td>-0.011929</td>\n",
              "      <td>0.008441</td>\n",
              "      <td>-0.013096</td>\n",
              "      <td>0.004949</td>\n",
              "      <td>-0.013145</td>\n",
              "      <td>0.006956</td>\n",
              "    </tr>\n",
              "    <tr>\n",
              "      <th>total_eve_charge</th>\n",
              "      <td>-0.010322</td>\n",
              "      <td>0.010736</td>\n",
              "      <td>-0.013258</td>\n",
              "      <td>0.008663</td>\n",
              "      <td>-0.013257</td>\n",
              "      <td>1.000000</td>\n",
              "      <td>0.003120</td>\n",
              "      <td>1.000000</td>\n",
              "      <td>-0.014022</td>\n",
              "      <td>0.011971</td>\n",
              "      <td>-0.014035</td>\n",
              "      <td>-0.003512</td>\n",
              "      <td>0.012239</td>\n",
              "      <td>-0.003463</td>\n",
              "      <td>-0.010071</td>\n",
              "    </tr>\n",
              "    <tr>\n",
              "      <th>total_night_minutes</th>\n",
              "      <td>-0.009916</td>\n",
              "      <td>0.018308</td>\n",
              "      <td>0.010049</td>\n",
              "      <td>0.002206</td>\n",
              "      <td>0.010053</td>\n",
              "      <td>-0.014018</td>\n",
              "      <td>0.008425</td>\n",
              "      <td>-0.014022</td>\n",
              "      <td>1.000000</td>\n",
              "      <td>0.023815</td>\n",
              "      <td>0.999999</td>\n",
              "      <td>-0.000113</td>\n",
              "      <td>-0.024280</td>\n",
              "      <td>-0.000047</td>\n",
              "      <td>-0.013771</td>\n",
              "    </tr>\n",
              "    <tr>\n",
              "      <th>total_night_calls</th>\n",
              "      <td>-0.001846</td>\n",
              "      <td>0.001977</td>\n",
              "      <td>-0.004812</td>\n",
              "      <td>-0.004815</td>\n",
              "      <td>-0.004816</td>\n",
              "      <td>0.011973</td>\n",
              "      <td>-0.011929</td>\n",
              "      <td>0.011971</td>\n",
              "      <td>0.023815</td>\n",
              "      <td>1.000000</td>\n",
              "      <td>0.023798</td>\n",
              "      <td>0.001093</td>\n",
              "      <td>0.003851</td>\n",
              "      <td>0.001054</td>\n",
              "      <td>-0.008893</td>\n",
              "    </tr>\n",
              "    <tr>\n",
              "      <th>total_night_charge</th>\n",
              "      <td>-0.009942</td>\n",
              "      <td>0.018300</td>\n",
              "      <td>0.010036</td>\n",
              "      <td>0.002200</td>\n",
              "      <td>0.010040</td>\n",
              "      <td>-0.014031</td>\n",
              "      <td>0.008441</td>\n",
              "      <td>-0.014035</td>\n",
              "      <td>0.999999</td>\n",
              "      <td>0.023798</td>\n",
              "      <td>1.000000</td>\n",
              "      <td>-0.000103</td>\n",
              "      <td>-0.024260</td>\n",
              "      <td>-0.000037</td>\n",
              "      <td>-0.013761</td>\n",
              "    </tr>\n",
              "    <tr>\n",
              "      <th>total_intl_minutes</th>\n",
              "      <td>0.004539</td>\n",
              "      <td>0.005220</td>\n",
              "      <td>-0.021369</td>\n",
              "      <td>0.008834</td>\n",
              "      <td>-0.021374</td>\n",
              "      <td>-0.003509</td>\n",
              "      <td>-0.013096</td>\n",
              "      <td>-0.003512</td>\n",
              "      <td>-0.000113</td>\n",
              "      <td>0.001093</td>\n",
              "      <td>-0.000103</td>\n",
              "      <td>1.000000</td>\n",
              "      <td>0.019328</td>\n",
              "      <td>0.999993</td>\n",
              "      <td>-0.013994</td>\n",
              "    </tr>\n",
              "    <tr>\n",
              "      <th>total_intl_calls</th>\n",
              "      <td>0.013690</td>\n",
              "      <td>0.006585</td>\n",
              "      <td>0.003859</td>\n",
              "      <td>0.009377</td>\n",
              "      <td>0.003853</td>\n",
              "      <td>0.012239</td>\n",
              "      <td>0.004949</td>\n",
              "      <td>0.012239</td>\n",
              "      <td>-0.024280</td>\n",
              "      <td>0.003851</td>\n",
              "      <td>-0.024260</td>\n",
              "      <td>0.019328</td>\n",
              "      <td>1.000000</td>\n",
              "      <td>0.019414</td>\n",
              "      <td>-0.015302</td>\n",
              "    </tr>\n",
              "    <tr>\n",
              "      <th>total_intl_charge</th>\n",
              "      <td>0.004494</td>\n",
              "      <td>0.005249</td>\n",
              "      <td>-0.021291</td>\n",
              "      <td>0.008909</td>\n",
              "      <td>-0.021296</td>\n",
              "      <td>-0.003460</td>\n",
              "      <td>-0.013145</td>\n",
              "      <td>-0.003463</td>\n",
              "      <td>-0.000047</td>\n",
              "      <td>0.001054</td>\n",
              "      <td>-0.000037</td>\n",
              "      <td>0.999993</td>\n",
              "      <td>0.019414</td>\n",
              "      <td>1.000000</td>\n",
              "      <td>-0.014051</td>\n",
              "    </tr>\n",
              "    <tr>\n",
              "      <th>number_customer_service_calls</th>\n",
              "      <td>0.001002</td>\n",
              "      <td>-0.015303</td>\n",
              "      <td>-0.002925</td>\n",
              "      <td>-0.015845</td>\n",
              "      <td>-0.002932</td>\n",
              "      <td>-0.010063</td>\n",
              "      <td>0.006956</td>\n",
              "      <td>-0.010071</td>\n",
              "      <td>-0.013771</td>\n",
              "      <td>-0.008893</td>\n",
              "      <td>-0.013761</td>\n",
              "      <td>-0.013994</td>\n",
              "      <td>-0.015302</td>\n",
              "      <td>-0.014051</td>\n",
              "      <td>1.000000</td>\n",
              "    </tr>\n",
              "  </tbody>\n",
              "</table>\n",
              "</div>\n",
              "      <button class=\"colab-df-convert\" onclick=\"convertToInteractive('df-6014f768-b03d-4351-96e8-f6f3578d65f8')\"\n",
              "              title=\"Convert this dataframe to an interactive table.\"\n",
              "              style=\"display:none;\">\n",
              "        \n",
              "  <svg xmlns=\"http://www.w3.org/2000/svg\" height=\"24px\"viewBox=\"0 0 24 24\"\n",
              "       width=\"24px\">\n",
              "    <path d=\"M0 0h24v24H0V0z\" fill=\"none\"/>\n",
              "    <path d=\"M18.56 5.44l.94 2.06.94-2.06 2.06-.94-2.06-.94-.94-2.06-.94 2.06-2.06.94zm-11 1L8.5 8.5l.94-2.06 2.06-.94-2.06-.94L8.5 2.5l-.94 2.06-2.06.94zm10 10l.94 2.06.94-2.06 2.06-.94-2.06-.94-.94-2.06-.94 2.06-2.06.94z\"/><path d=\"M17.41 7.96l-1.37-1.37c-.4-.4-.92-.59-1.43-.59-.52 0-1.04.2-1.43.59L10.3 9.45l-7.72 7.72c-.78.78-.78 2.05 0 2.83L4 21.41c.39.39.9.59 1.41.59.51 0 1.02-.2 1.41-.59l7.78-7.78 2.81-2.81c.8-.78.8-2.07 0-2.86zM5.41 20L4 18.59l7.72-7.72 1.47 1.35L5.41 20z\"/>\n",
              "  </svg>\n",
              "      </button>\n",
              "      \n",
              "  <style>\n",
              "    .colab-df-container {\n",
              "      display:flex;\n",
              "      flex-wrap:wrap;\n",
              "      gap: 12px;\n",
              "    }\n",
              "\n",
              "    .colab-df-convert {\n",
              "      background-color: #E8F0FE;\n",
              "      border: none;\n",
              "      border-radius: 50%;\n",
              "      cursor: pointer;\n",
              "      display: none;\n",
              "      fill: #1967D2;\n",
              "      height: 32px;\n",
              "      padding: 0 0 0 0;\n",
              "      width: 32px;\n",
              "    }\n",
              "\n",
              "    .colab-df-convert:hover {\n",
              "      background-color: #E2EBFA;\n",
              "      box-shadow: 0px 1px 2px rgba(60, 64, 67, 0.3), 0px 1px 3px 1px rgba(60, 64, 67, 0.15);\n",
              "      fill: #174EA6;\n",
              "    }\n",
              "\n",
              "    [theme=dark] .colab-df-convert {\n",
              "      background-color: #3B4455;\n",
              "      fill: #D2E3FC;\n",
              "    }\n",
              "\n",
              "    [theme=dark] .colab-df-convert:hover {\n",
              "      background-color: #434B5C;\n",
              "      box-shadow: 0px 1px 3px 1px rgba(0, 0, 0, 0.15);\n",
              "      filter: drop-shadow(0px 1px 2px rgba(0, 0, 0, 0.3));\n",
              "      fill: #FFFFFF;\n",
              "    }\n",
              "  </style>\n",
              "\n",
              "      <script>\n",
              "        const buttonEl =\n",
              "          document.querySelector('#df-6014f768-b03d-4351-96e8-f6f3578d65f8 button.colab-df-convert');\n",
              "        buttonEl.style.display =\n",
              "          google.colab.kernel.accessAllowed ? 'block' : 'none';\n",
              "\n",
              "        async function convertToInteractive(key) {\n",
              "          const element = document.querySelector('#df-6014f768-b03d-4351-96e8-f6f3578d65f8');\n",
              "          const dataTable =\n",
              "            await google.colab.kernel.invokeFunction('convertToInteractive',\n",
              "                                                     [key], {});\n",
              "          if (!dataTable) return;\n",
              "\n",
              "          const docLinkHtml = 'Like what you see? Visit the ' +\n",
              "            '<a target=\"_blank\" href=https://colab.research.google.com/notebooks/data_table.ipynb>data table notebook</a>'\n",
              "            + ' to learn more about interactive tables.';\n",
              "          element.innerHTML = '';\n",
              "          dataTable['output_type'] = 'display_data';\n",
              "          await google.colab.output.renderOutput(dataTable, element);\n",
              "          const docLink = document.createElement('div');\n",
              "          docLink.innerHTML = docLinkHtml;\n",
              "          element.appendChild(docLink);\n",
              "        }\n",
              "      </script>\n",
              "    </div>\n",
              "  </div>\n",
              "  "
            ]
          },
          "metadata": {},
          "execution_count": 8
        }
      ]
    },
    {
      "cell_type": "code",
      "source": [
        "plt.figure(figsize=(30,20))\n",
        "sns.heatmap(df.corr(),annot=True)\n",
        "plt.show()"
      ],
      "metadata": {
        "colab": {
          "base_uri": "https://localhost:8080/",
          "height": 1000
        },
        "id": "D3Klcdmr203-",
        "outputId": "d54596c6-562a-45e3-e815-9de61d72750a"
      },
      "execution_count": null,
      "outputs": [
        {
          "output_type": "display_data",
          "data": {
            "text/plain": [
              "<Figure size 2160x1440 with 2 Axes>"
            ],
            "image/png": "[encoded data removed]"
          },
          "metadata": {
            "needs_background": "light"
          }
        }
      ]
    },
    {
      "cell_type": "code",
      "source": [],
      "metadata": {
        "id": "EEtMUNBH2-Hr"
      },
      "execution_count": null,
      "outputs": []
    }
  ]
}